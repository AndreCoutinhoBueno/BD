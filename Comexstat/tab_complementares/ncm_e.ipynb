{
 "cells": [
  {
   "cell_type": "code",
   "execution_count": 1,
   "id": "9203a9c3-496b-422a-bd22-8ca7c97a9506",
   "metadata": {
    "scrolled": true
   },
   "outputs": [],
   "source": [
    "import numpy as np\n",
    "import pandas as pd\n",
    "\n",
    "ncm_e=pd.read_csv('~/git/BD/Comexstat/tab_complementares/NCM.csv',encoding='Latin-1',sep=';')[['CO_NCM','NO_NCM_POR']]"
   ]
  },
  {
   "cell_type": "code",
   "execution_count": 2,
   "id": "7260099f-f950-472b-b4ca-560326595127",
   "metadata": {
    "scrolled": true
   },
   "outputs": [],
   "source": [
    "ncm_e.insert(0,'name',ncm_e.NO_NCM_POR)\n",
    "ncm_e\n",
    "\n",
    "ncm_e.loc[ncm_e.name.str.lower().str.contains('soja'),'name']='soja'\n",
    "ncm_e.loc[ncm_e.name.str.lower().str.contains('milho'),'name']='milho'\n",
    "ncm_e.loc[ncm_e.name.str.lower().str.contains('café'),'name']='café'\n",
    "\n",
    "ncm_e.loc[ncm_e.CO_NCM==31031030,'name']='TSP'\n",
    "ncm_e.loc[ncm_e.name.str.lower().str.contains('diidrogeno'),'name']='MAP'\n",
    "ncm_e.loc[ncm_e.name.str.lower().str.contains('nitrogênio e fósforo'),'name']='NP'\n",
    "ncm_e.loc[ncm_e.name.str.lower().str.contains('nitrato de amônio, mesmo em solução aquosa'),'name']='NAM'\n",
    "ncm_e.loc[ncm_e.name.str.lower().str.contains('22 %'),'name']='SSP'\n",
    "ncm_e.loc[ncm_e.name.str.lower().str.contains('três elementos'),'name']='NPK'\n",
    "ncm_e.loc[ncm_e.name.str.lower().str.contains('ureia, mesmo em solução aquosa,'),'name']='ureia'"
   ]
  },
  {
   "cell_type": "code",
   "execution_count": 3,
   "id": "e2a68712-b25b-4a82-a55f-33c1c416c417",
   "metadata": {},
   "outputs": [],
   "source": [
    "ncm_e.to_csv('~/git/BD/Comexstat/tab_complementares/ncm_e.csv', index=False)"
   ]
  }
 ],
 "metadata": {
  "kernelspec": {
   "display_name": "Python 3 (ipykernel)",
   "language": "python",
   "name": "python3"
  },
  "language_info": {
   "codemirror_mode": {
    "name": "ipython",
    "version": 3
   },
   "file_extension": ".py",
   "mimetype": "text/x-python",
   "name": "python",
   "nbconvert_exporter": "python",
   "pygments_lexer": "ipython3",
   "version": "3.11.2"
  }
 },
 "nbformat": 4,
 "nbformat_minor": 5
}
