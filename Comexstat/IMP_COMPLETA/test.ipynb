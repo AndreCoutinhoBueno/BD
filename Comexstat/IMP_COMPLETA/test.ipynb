{
 "cells": [
  {
   "cell_type": "code",
   "execution_count": 1,
   "id": "1360b66d-6fc5-49df-aa13-a32ff1950196",
   "metadata": {},
   "outputs": [],
   "source": [
    "import numpy as np\n",
    "import pandas as pd\n",
    "import matplotlib.pyplot as plt\n",
    "import seaborn as sns\n",
    "\n",
    "# Carrega a tabela imortação\n",
    "imp_fert=pd.read_csv('~/git/BD/temp/imp_fert1.csv')\n",
    "\n",
    "# Carrega a tabela com características adicionais de cada NCM\n",
    "ncm_e=pd.read_csv('~/git/BD/Comexstat/tab_complementares/ncm_e.csv')\n",
    "\n",
    "# Insere a data\n",
    "imp_fert.insert(0,'date',pd.to_datetime(imp_fert.CO_ANO.astype(str)+'/'+imp_fert.CO_MES.astype(str)+'/1'))\n",
    "\n",
    "# Funde as tabelas\n",
    "imp_fert=ncm_e.merge(imp_fert)\n",
    "\n",
    "# Ranqueia a seleciona os 10 maiores NCMs em peso\n",
    "imp_fert_top=imp_fert.groupby('CO_NCM').KG_LIQUIDO.sum().sort_values(ascending=False).reset_index().head(10)['CO_NCM'].values\n",
    "\n",
    "# Filtra a tabela deixano passar somente os registros dos NCMs top\n",
    "imp_fert=imp_fert[imp_fert.CO_NCM.isin(imp_fert_top)]\n",
    "\n",
    "imp_fert=imp_fert[(imp_fert.KG_LIQUIDO>0)&(imp_fert.VL_FOB>0)]"
   ]
  },
  {
   "cell_type": "code",
   "execution_count": 2,
   "id": "e1b4b28c-08b0-452b-91aa-532d9ae44a4d",
   "metadata": {},
   "outputs": [],
   "source": [
    "# Corrige erro do tipo aleatório que visualmente comprime os pesos na parte baixa do gráfico da ureia, sendo esse o único valor\n",
    "# de potência 10**9 de todo o conjunto de dados.\n",
    "\n",
    "# Cria tabela temporária somente com o registro do erro máximo\n",
    "imp_fert_err=imp_fert[imp_fert.KG_LIQUIDO==imp_fert.KG_LIQUIDO.max()]\n",
    "\n",
    "# Cria tabela temporária sem o erro registro do erro máximo\n",
    "imp_fert_correto=imp_fert[imp_fert.KG_LIQUIDO!=imp_fert.KG_LIQUIDO.max()]\n",
    "\n",
    "# Identifica data e NCM do erro\n",
    "data_prdt_err=imp_fert_err[['date','CO_NCM']]\n",
    "\n",
    "# Identifica registros sem erro na mesma data com o mesmo produto\n",
    "imp_fert_correto_data_err=imp_fert_correto.merge(data_prdt_err)\n",
    "\n",
    "# Calcula soma do valores e pesos corretos na data e para o produto do erro\n",
    "imp_fert_correto_data_err=imp_fert_correto_data_err.groupby('CO_NCM')[['VL_FOB','KG_LIQUIDO']].sum()\n",
    "\n",
    "# Cálcula o preço médio correto do produto na data do erro\n",
    "preço_correção=(imp_fert_correto_data_err.VL_FOB / imp_fert_correto_data_err.KG_LIQUIDO).values[0]\n",
    "\n",
    "# Cálcula o preço correto do produto na data do erro, e o insere na tabela com erro\n",
    "#imp_fert_correto_data_err=imp_fert_correto_data_err.assign(preço=preço_correção)\n",
    "#preço_correção=imp_fert_correto_data_err.preço.values[0]\n",
    "\n",
    "# Através do valor importado, que já estava correto, e do preço corrigido, se determina o peso corrigido\n",
    "imp_fert_err.loc[:,'KG_LIQUIDO']=round(imp_fert_err.VL_FOB / preço_correção)#.astype(int)\n",
    "\n",
    "# Conclui a correção\n",
    "imp_fert_corrigido=imp_fert_err\n",
    "\n",
    "# Concatena importações corrigidas e originalmente corretas\n",
    "imp_fert=pd.concat([imp_fert_corrigido,imp_fert_correto])"
   ]
  },
  {
   "cell_type": "code",
   "execution_count": 3,
   "id": "3d7efc68-e485-4c57-8d2d-876b811fa5c2",
   "metadata": {},
   "outputs": [
    {
     "name": "stdout",
     "output_type": "stream",
     "text": [
      "\n",
      "Função ***corrige_inflação_dólar(df_ano_mes_valor,col_vl_name)*** disponível.\n",
      "\n"
     ]
    }
   ],
   "source": [
    "# Importa função que corrige inflação\n",
    "%run 'corrige_inflação_dólar.ipynb'"
   ]
  },
  {
   "cell_type": "code",
   "execution_count": 4,
   "id": "eea6183b-def3-4765-9e36-6d2f7d4043bc",
   "metadata": {},
   "outputs": [],
   "source": [
    "# Corrige a inflação sobre os valores\n",
    "for col in ['VL_FOB','VL_FRETE','VL_SEGURO']:\n",
    "    imp_fert=corrige_inflação_dólar(imp_fert,col)"
   ]
  },
  {
   "cell_type": "code",
   "execution_count": 5,
   "id": "d65ba328-fc5c-41fa-aa27-d4e265c03c4d",
   "metadata": {},
   "outputs": [],
   "source": [
    "# Filtra deixando passar somente  a via 1\n",
    "imp_fert=imp_fert[imp_fert.CO_VIA==1]\n",
    "\n",
    "# Descarta as colunas como previsto\n",
    "imp_fert.drop(columns=['CO_VIA','CO_UNID','QT_ESTAT'],inplace=True)"
   ]
  },
  {
   "cell_type": "markdown",
   "id": "3ed55641-201e-4fbe-bb6e-4b1385416478",
   "metadata": {},
   "source": [
    "# Clusteriza"
   ]
  },
  {
   "cell_type": "code",
   "execution_count": 6,
   "id": "0baa8b6a-edc0-4eb8-a2da-0b0942382f37",
   "metadata": {},
   "outputs": [
    {
     "name": "stdout",
     "output_type": "stream",
     "text": [
      "\n",
      "Função norm_20_bins() disponível.\n",
      "\n"
     ]
    }
   ],
   "source": [
    "### Clusterização pelo preço\n",
    "\n",
    "# Cria coluna 'preço'\n",
    "imp_fert=imp_fert.assign(preço=(imp_fert.VL_FOB+imp_fert.VL_FRETE+imp_fert.VL_SEGURO)/imp_fert.KG_LIQUIDO)\n",
    "\n",
    "%run 'norm_20_bins.ipynb'"
   ]
  },
  {
   "cell_type": "code",
   "execution_count": 7,
   "id": "b26a358b-2b5d-447e-847a-56b9d65840f3",
   "metadata": {},
   "outputs": [],
   "source": [
    "col_target='preço'\n",
    "\n",
    "# Clusteriza pelo preço\n",
    "#r=pd.DataFrame()\n",
    "ncm=31042090\n",
    "imp_fert_t=imp_fert[imp_fert.CO_NCM==ncm].reset_index(drop=True)\n",
    "\n",
    "q=pd.DataFrame()\n",
    "r=pd.DataFrame()\n",
    "for n in range(1,29):\n",
    "    \n",
    "    # Inicia o algorítmo de clusterização\n",
    "    from sklearn.cluster import KMeans as KM\n",
    "    KM=KM(n_clusters=n, n_init='auto', random_state=1)\n",
    "\n",
    "    # Clusteriza\n",
    "    imp_fert_t2_km=imp_fert_t.assign(km=KM.fit_predict(imp_fert_t[['preço']])).assign(n_cluster=n)\n",
    "\n",
    "    # Concatena resultado dos testes I\n",
    "    r=pd.concat([r,imp_fert_t2_km])\n",
    "\n",
    "    # Identifica cluster de interesse\n",
    "    km_top=imp_fert_t2_km.groupby('km').KG_LIQUIDO.count().sort_values(ascending=False).reset_index().head(1)['km'][0]\n",
    "\n",
    "    # Filtra deixando passar somente cluester de interesse\n",
    "    imp_fert_t2_km_top=imp_fert_t2_km[imp_fert_t2_km.km==km_top]\n",
    "\n",
    "    # Identifica coluna a ser avaliada quanto a normalidade\n",
    "    ps=imp_fert_t2_km_top[col_target]\n",
    "\n",
    "    # Avalia a normalidade\n",
    "    normalidade=norm_20_bins(ps)\n",
    "\n",
    "    # Cria tabela com as características e os resultados dos testes\n",
    "    imp_fert_t2_km_top_res=imp_fert_t2_km_top[['CO_NCM']].drop_duplicates()\\\n",
    "    .assign(norm=normalidade).assign(n_cluster=n).assign(count_perct=len(imp_fert_t2_km_top)/len(imp_fert_t2_km))\\\n",
    "    .assign(kg_perct=imp_fert_t2_km_top.KG_LIQUIDO.sum()/imp_fert_t2_km.KG_LIQUIDO.sum())\n",
    "\n",
    "    # Concatena os resultados dos testes II\n",
    "    q=pd.concat([q,imp_fert_t2_km_top_res])\n",
    "\n",
    "q=q.assign(norm_diff=q.diff().norm)"
   ]
  },
  {
   "cell_type": "code",
   "execution_count": null,
   "id": "cf894776-b037-4ac6-a666-0d392a2f3291",
   "metadata": {},
   "outputs": [],
   "source": []
  },
  {
   "cell_type": "code",
   "execution_count": 8,
   "id": "f0aa476e-d97f-4222-9ee3-dd6f40478e5b",
   "metadata": {},
   "outputs": [],
   "source": [
    "n_cluster_escolhido=q[q.norm_diff==q.norm_diff.max()].n_cluster.values[0]-1"
   ]
  },
  {
   "cell_type": "code",
   "execution_count": null,
   "id": "3216a0fa-c8a7-47e8-a836-e91e5506131b",
   "metadata": {},
   "outputs": [],
   "source": []
  },
  {
   "cell_type": "code",
   "execution_count": 9,
   "id": "53f3234c-5c87-48d6-8589-613087f1cbcc",
   "metadata": {},
   "outputs": [],
   "source": [
    "q_1=q[q.n_cluster==n_cluster_escolhido].merge(r)"
   ]
  },
  {
   "cell_type": "code",
   "execution_count": 10,
   "id": "e32fdf09-7ad6-4675-8142-657a2b24a22c",
   "metadata": {},
   "outputs": [],
   "source": [
    "list_km_top=q_1.groupby('km').KG_LIQUIDO.count().sort_values(ascending=False).reset_index()[['km']].values.flat[:]"
   ]
  },
  {
   "cell_type": "code",
   "execution_count": 11,
   "id": "23872dae-be84-4253-9711-5a6aead5957d",
   "metadata": {},
   "outputs": [],
   "source": [
    "q_2=q_1[q_1.km.isin(list_km_top)]"
   ]
  },
  {
   "cell_type": "code",
   "execution_count": 12,
   "id": "e78be4dc-ecb4-414d-82c0-496be1f4b37e",
   "metadata": {},
   "outputs": [
    {
     "data": {
      "image/png": "[encoded data removed]",
      "text/plain": [
       "<Figure size 558.875x500 with 1 Axes>"
      ]
     },
     "metadata": {},
     "output_type": "display_data"
    }
   ],
   "source": [
    "sns.displot(data=q_2[['KG_LIQUIDO','km']],x='KG_LIQUIDO',hue='km',log_scale=True,bins=30)\n",
    "plt.show()"
   ]
  },
  {
   "cell_type": "code",
   "execution_count": 13,
   "id": "2ad44b6b-02f3-4cef-b87e-88399fcb2e08",
   "metadata": {},
   "outputs": [],
   "source": [
    "q_2=q_2.assign(date=pd.to_datetime(q_2.CO_ANO.astype(str)+'/'+q_2.CO_MES.astype(str)+'/1').astype(int))"
   ]
  },
  {
   "cell_type": "code",
   "execution_count": 14,
   "id": "1a8d2eec-c27e-4c1e-b49d-39fb52ab1d88",
   "metadata": {},
   "outputs": [
    {
     "data": {
      "text/plain": [
       "<seaborn.axisgrid.FacetGrid at 0x7febf816c3d0>"
      ]
     },
     "execution_count": 14,
     "metadata": {},
     "output_type": "execute_result"
    },
    {
     "data": {
      "image/png": "[encoded data removed]",
      "text/plain": [
       "<Figure size 558.875x500 with 1 Axes>"
      ]
     },
     "metadata": {},
     "output_type": "display_data"
    }
   ],
   "source": [
    "sns.relplot(data=q_2[q_2.km!=0],y='KG_LIQUIDO',x='date',hue='km')"
   ]
  },
  {
   "cell_type": "code",
   "execution_count": null,
   "id": "0e7e3e9b-745d-4d9b-9ab5-5f42f5b64a90",
   "metadata": {},
   "outputs": [],
   "source": []
  },
  {
   "cell_type": "code",
   "execution_count": null,
   "id": "934ff31f-e642-465e-821b-c95711b8a016",
   "metadata": {},
   "outputs": [],
   "source": []
  },
  {
   "cell_type": "code",
   "execution_count": 15,
   "id": "2f5751f5-a8ce-48cb-8bd7-1e654be342f1",
   "metadata": {},
   "outputs": [
    {
     "ename": "SyntaxError",
     "evalue": "invalid syntax (62411553.py, line 1)",
     "output_type": "error",
     "traceback": [
      "\u001b[0;36m  Cell \u001b[0;32mIn[15], line 1\u001b[0;36m\u001b[0m\n\u001b[0;31m    a=\u001b[0m\n\u001b[0m      ^\u001b[0m\n\u001b[0;31mSyntaxError\u001b[0m\u001b[0;31m:\u001b[0m invalid syntax\n"
     ]
    }
   ],
   "source": [
    "a="
   ]
  },
  {
   "cell_type": "code",
   "execution_count": null,
   "id": "1b341931-4b80-4759-a0a4-c1df4f208643",
   "metadata": {},
   "outputs": [],
   "source": []
  },
  {
   "cell_type": "code",
   "execution_count": null,
   "id": "2c0beb3e-4b66-405f-9e10-d5844d968bbc",
   "metadata": {},
   "outputs": [],
   "source": []
  },
  {
   "cell_type": "code",
   "execution_count": null,
   "id": "1d36f513-3737-4531-bf9b-39c1ebf09305",
   "metadata": {},
   "outputs": [],
   "source": []
  },
  {
   "cell_type": "code",
   "execution_count": null,
   "id": "286d0660-27e0-4a39-8345-ae5becd7415e",
   "metadata": {},
   "outputs": [],
   "source": []
  },
  {
   "cell_type": "code",
   "execution_count": null,
   "id": "707b05d2-e196-4a37-9441-e3ebf7460a09",
   "metadata": {},
   "outputs": [],
   "source": []
  },
  {
   "cell_type": "code",
   "execution_count": null,
   "id": "0a32b175-e7d7-4f1e-a15a-c741a89f9e5b",
   "metadata": {},
   "outputs": [],
   "source": []
  },
  {
   "cell_type": "code",
   "execution_count": null,
   "id": "5a04d457-3fad-4afa-8592-8af18f1f2d3f",
   "metadata": {},
   "outputs": [],
   "source": []
  },
  {
   "cell_type": "code",
   "execution_count": null,
   "id": "17899782-b353-4cdd-88b9-e07bc316b0ae",
   "metadata": {},
   "outputs": [],
   "source": []
  },
  {
   "cell_type": "code",
   "execution_count": null,
   "id": "bb93bf32-885e-4cda-987d-162964de3807",
   "metadata": {},
   "outputs": [],
   "source": []
  },
  {
   "cell_type": "code",
   "execution_count": null,
   "id": "d8291f22-80c6-4ed6-af9d-024f88b5b9aa",
   "metadata": {},
   "outputs": [],
   "source": [
    "q_l=pd.concat([q.assign(tipo='limpo'),imp_fert_t.assign(tipo='orig')])"
   ]
  },
  {
   "cell_type": "code",
   "execution_count": null,
   "id": "53f23497-35bd-4dbb-ab3e-ba17602c5279",
   "metadata": {},
   "outputs": [],
   "source": [
    "sns.displot(data=q_l,x='KG_LIQUIDO',log_scale=True,bins=30,height=2,aspect=3*1.6, hue='tipo')"
   ]
  },
  {
   "cell_type": "code",
   "execution_count": null,
   "id": "de40cea3-d74c-477e-a82b-b826b1f5e7ff",
   "metadata": {},
   "outputs": [],
   "source": [
    "sns.displot(data=q,x='KG_LIQUIDO',log_scale=True,bins=30,height=2,aspect=3*1.6)"
   ]
  },
  {
   "cell_type": "code",
   "execution_count": null,
   "id": "dac55f2f-58b3-4a69-a19f-dbe725b4d3e1",
   "metadata": {},
   "outputs": [],
   "source": [
    "q.KG_LIQUIDO.max()/10**8"
   ]
  },
  {
   "cell_type": "code",
   "execution_count": null,
   "id": "8085af66-e12b-40d1-b7f8-f0e1e32a9d33",
   "metadata": {},
   "outputs": [],
   "source": [
    "q[['CO_ANO','CO_MES','norm','count','kg_perc','km','norm_diff']]"
   ]
  },
  {
   "cell_type": "code",
   "execution_count": null,
   "id": "49fe406c-a841-4f3c-8a76-321afe17c886",
   "metadata": {},
   "outputs": [],
   "source": [
    "r"
   ]
  },
  {
   "cell_type": "code",
   "execution_count": null,
   "id": "8d7d08b4-c725-4c52-8ca5-e24d5918239a",
   "metadata": {},
   "outputs": [],
   "source": []
  },
  {
   "cell_type": "code",
   "execution_count": null,
   "id": "71b71737-8a58-4f9d-a4c9-fa6f2a04cd65",
   "metadata": {},
   "outputs": [],
   "source": []
  },
  {
   "cell_type": "code",
   "execution_count": null,
   "id": "8b02a768-e3e1-4793-a2de-2b7c40673c21",
   "metadata": {},
   "outputs": [],
   "source": []
  },
  {
   "cell_type": "code",
   "execution_count": null,
   "id": "1ef907d3-950d-4a38-8ea6-58a3dae02c66",
   "metadata": {},
   "outputs": [],
   "source": [
    "a="
   ]
  },
  {
   "cell_type": "code",
   "execution_count": null,
   "id": "3c4ad310-876d-45de-942d-8ed9d55ab631",
   "metadata": {},
   "outputs": [],
   "source": []
  },
  {
   "cell_type": "code",
   "execution_count": null,
   "id": "12542cdd-4c66-4113-9a11-d6828f641435",
   "metadata": {},
   "outputs": [],
   "source": []
  },
  {
   "cell_type": "code",
   "execution_count": null,
   "id": "075c302b-30ed-4b3e-8e3c-9f4838f95a01",
   "metadata": {},
   "outputs": [],
   "source": []
  },
  {
   "cell_type": "code",
   "execution_count": null,
   "id": "977d0c0f-052d-4cd0-9992-c4a3a4f6d1a7",
   "metadata": {},
   "outputs": [],
   "source": []
  },
  {
   "cell_type": "code",
   "execution_count": null,
   "id": "c9ec0f30-d779-4179-84d5-e82e4c138d4a",
   "metadata": {},
   "outputs": [],
   "source": []
  },
  {
   "cell_type": "code",
   "execution_count": null,
   "id": "317f853b-5528-49c9-9a8f-1bee33af245e",
   "metadata": {},
   "outputs": [],
   "source": []
  },
  {
   "cell_type": "code",
   "execution_count": null,
   "id": "963148e6-9a01-4ed2-8890-d31a09ce2470",
   "metadata": {},
   "outputs": [],
   "source": [
    "#r=pd.concat([r,q])\n",
    "\n",
    "q[['CO_NCM','n_cluster','norm']]"
   ]
  },
  {
   "cell_type": "code",
   "execution_count": null,
   "id": "400ae793-8c17-4abb-8573-35dee0e8cdd6",
   "metadata": {},
   "outputs": [],
   "source": [
    "a="
   ]
  },
  {
   "cell_type": "code",
   "execution_count": null,
   "id": "5dd25e7f-3362-4828-97bf-cd9c8df303d7",
   "metadata": {},
   "outputs": [],
   "source": [
    "\n"
   ]
  },
  {
   "cell_type": "code",
   "execution_count": null,
   "id": "42938d68-cb34-4918-a2b6-66fda34318ed",
   "metadata": {},
   "outputs": [],
   "source": []
  },
  {
   "cell_type": "code",
   "execution_count": null,
   "id": "f1038cd5-7d49-47d7-8c8d-0f6d212fc0a0",
   "metadata": {},
   "outputs": [],
   "source": [
    "km_sel=pd.DataFrame({'name':['NP','MAP','NPK','Outros cloretos de potássio','Outros superfosfatos','NAM','SAM','ureia'],\n",
    "             'n':[6,22,22,26,6,18,26,18]})"
   ]
  },
  {
   "cell_type": "code",
   "execution_count": null,
   "id": "50e29e08-eb68-4265-a8b1-259c3dfea087",
   "metadata": {},
   "outputs": [],
   "source": [
    "imp_fert_km_sel=imp_fert_km.merge(km_sel)"
   ]
  },
  {
   "cell_type": "code",
   "execution_count": null,
   "id": "33f2a39e-9876-49b6-a0e0-36896dc77288",
   "metadata": {},
   "outputs": [],
   "source": [
    "rank_correto=imp_fert_km_sel.groupby(by=['name','km']).KG_LIQUIDO.sum().reset_index().sort_values(by=['name','KG_LIQUIDO'],ascending=False)\n",
    "rank_correto=rank_correto.groupby(by=['name']).KG_LIQUIDO.max().reset_index().merge(rank_correto)"
   ]
  },
  {
   "cell_type": "code",
   "execution_count": null,
   "id": "460137ab-330b-44a8-b67c-21d41c82e0e7",
   "metadata": {},
   "outputs": [],
   "source": [
    "imp_fert_km_sel_correto=imp_fert_km_sel.merge(rank_correto[['name','km']])"
   ]
  },
  {
   "cell_type": "code",
   "execution_count": null,
   "id": "a116ff91-7494-4be7-ad9d-ddadd70ea39e",
   "metadata": {},
   "outputs": [],
   "source": [
    "imp_fert_km_sel_erro=imp_fert_km_sel[~imp_fert_km_sel.index.isin(imp_fert_km_sel_correto.index)]"
   ]
  },
  {
   "cell_type": "code",
   "execution_count": null,
   "id": "9636409a-d2fa-44f0-9ed4-831c39c9eb24",
   "metadata": {},
   "outputs": [],
   "source": [
    "len(imp_fert_km_sel_erro)/len(imp_fert_km_sel_correto)*100"
   ]
  },
  {
   "cell_type": "code",
   "execution_count": null,
   "id": "f0003eaa-d2a1-491e-bdf1-ba7733fec156",
   "metadata": {},
   "outputs": [],
   "source": [
    "imp_fert_km_sel_erro.KG_LIQUIDO.sum()/imp_fert_km_sel_correto.KG_LIQUIDO.sum()*100"
   ]
  },
  {
   "cell_type": "code",
   "execution_count": null,
   "id": "53fa1cdd-3e25-49cf-b858-40406f8527d5",
   "metadata": {},
   "outputs": [],
   "source": [
    "imp_fert_km_sel_erro.VL_FOB.sum()/imp_fert_km_sel_correto.VL_FOB.sum()*100"
   ]
  },
  {
   "cell_type": "code",
   "execution_count": null,
   "id": "f13bae4a-2d03-4a94-9f15-1472b019ed3e",
   "metadata": {},
   "outputs": [],
   "source": [
    "imp_fert_km_sel_erro=imp_fert_km_sel_erro.assign(erro_kg=0)\n",
    "imp_fert_km_sel_erro.loc[imp_fert_km_sel_erro.KG_LIQUIDO<10**3.1,'erro_kg']=1"
   ]
  },
  {
   "cell_type": "code",
   "execution_count": null,
   "id": "d836b146-527e-4b56-8ed3-02db5cc824ba",
   "metadata": {},
   "outputs": [],
   "source": [
    "imp_fert_km_sel_erro=imp_fert_km_sel_erro.assign(erro_vl=0)\n",
    "imp_fert_km_sel_erro.loc[imp_fert_km_sel_erro.VL_FOB<10**3.2,'erro_vl']=1"
   ]
  },
  {
   "cell_type": "code",
   "execution_count": null,
   "id": "88ccc114-0b24-4dd2-b5c6-de284f1e0887",
   "metadata": {},
   "outputs": [],
   "source": [
    "imp_fert_km_sel_erro=imp_fert_km_sel_erro.assign(descarte=0)\n",
    "imp_fert_km_sel_erro.loc[(imp_fert_km_sel_erro.erro_kg==1)&(imp_fert_km_sel_erro.erro_vl==1),'descarte']=1"
   ]
  },
  {
   "cell_type": "code",
   "execution_count": null,
   "id": "0830d0f2-be27-4081-a31d-d62b004971fd",
   "metadata": {},
   "outputs": [],
   "source": [
    "imp_fert_km_sel_erro_limpo=imp_fert_km_sel_erro[imp_fert_km_sel_erro.descarte==0].drop(columns='descarte')"
   ]
  },
  {
   "cell_type": "code",
   "execution_count": null,
   "id": "7bbdd2c0-e05d-4e83-9bb2-46eef826b4ea",
   "metadata": {},
   "outputs": [],
   "source": [
    "len(imp_fert_km_sel_erro_limpo)/len(imp_fert_km_sel)*100"
   ]
  },
  {
   "cell_type": "code",
   "execution_count": null,
   "id": "f66ebe88-839b-4849-9151-ed013e7c47fd",
   "metadata": {},
   "outputs": [],
   "source": [
    "imp_fert_km_sel_erro_limpo.KG_LIQUIDO.sum()/imp_fert_km_sel.KG_LIQUIDO.sum()*100"
   ]
  },
  {
   "cell_type": "code",
   "execution_count": null,
   "id": "9cc61f12-d813-44e4-aafb-26be6e428af8",
   "metadata": {},
   "outputs": [],
   "source": [
    "imp_fert_km_sel_erro_limpo.VL_FOB.sum()/imp_fert_km_sel.VL_FOB.sum()*100"
   ]
  },
  {
   "cell_type": "code",
   "execution_count": null,
   "id": "56c64b79-0297-4645-984a-76aa4f543062",
   "metadata": {},
   "outputs": [],
   "source": [
    "len(imp_fert_km_sel_correto)/len(imp_fert_km_sel)*100"
   ]
  },
  {
   "cell_type": "code",
   "execution_count": null,
   "id": "7968dcfa-9793-466d-9385-99921e587720",
   "metadata": {},
   "outputs": [],
   "source": [
    "imp_fert_km_sel_correto.KG_LIQUIDO.sum()/imp_fert_km_sel.KG_LIQUIDO.sum()*100"
   ]
  },
  {
   "cell_type": "code",
   "execution_count": null,
   "id": "ce104b67-c0f0-4bf3-8fb0-dbbf7c7e66c3",
   "metadata": {},
   "outputs": [],
   "source": [
    "imp_fert_km_sel_correto.VL_FOB.sum()/imp_fert_km_sel.VL_FOB.sum()*100"
   ]
  },
  {
   "cell_type": "code",
   "execution_count": null,
   "id": "12682c56-cc21-4d5e-b349-6b18f0a73654",
   "metadata": {},
   "outputs": [],
   "source": [
    "i_f_km_s_c=imp_fert_km_sel_correto"
   ]
  },
  {
   "cell_type": "code",
   "execution_count": null,
   "id": "5fedc96b-f746-41fb-a73f-598f8b5e008d",
   "metadata": {},
   "outputs": [],
   "source": [
    "# Determina características dos clusters para identificação deles posteriormente\n",
    "q=pd.DataFrame()\n",
    "for ncm in i_f_km_s_c.CO_NCM.unique():\n",
    "    i_f_km_s_c_t=i_f_km_s_c[i_f_km_s_c.CO_NCM==ncm]\n",
    "    i_f_km_s_c_t=i_f_km_s_c_t.assign(média=i_f_km_s_c_t.KG_LIQUIDO.mean())\n",
    "    i_f_km_s_c_t=i_f_km_s_c_t.assign(std=i_f_km_s_c_t.KG_LIQUIDO.std())\n",
    "    q=pd.concat([q,i_f_km_s_c_t])\n",
    "i_f_km_s_c=q"
   ]
  },
  {
   "cell_type": "code",
   "execution_count": null,
   "id": "6ab003ce-b6e0-410f-a971-5d26454f6ba0",
   "metadata": {},
   "outputs": [],
   "source": [
    "m_s=i_f_km_s_c[['name','média','std']].drop_duplicates()\n",
    "\n",
    "ncm_e=ncm_e.merge(m_s,how='left')\n",
    "\n",
    "# Salva nova tabela de ncm expandida\n",
    "ncm_e.to_csv('~/git/BD/Comexstat/tab_complementares/ncm_e.csv',index=False)"
   ]
  },
  {
   "cell_type": "code",
   "execution_count": null,
   "id": "31f44e83-4a7d-4e74-8840-21c6b631f7bf",
   "metadata": {},
   "outputs": [],
   "source": [
    "i_f_km_s_c.to_csv('~/git/BD/temp/imp_fert2.csv',index=False)"
   ]
  },
  {
   "cell_type": "code",
   "execution_count": null,
   "id": "65ac7c6a-b526-4ade-9f13-f18ff74125af",
   "metadata": {},
   "outputs": [],
   "source": [
    "sns.displot(data=imp_fert_km_sel_correto,x='KG_LIQUIDO',log_scale=True,col='name', bins=20, facet_kws=dict(sharex=False, sharey=False))\n",
    "plt.show()"
   ]
  },
  {
   "cell_type": "code",
   "execution_count": null,
   "id": "2178868d-f43b-49b4-bd68-558704b4f233",
   "metadata": {},
   "outputs": [],
   "source": [
    "sns.displot(data=imp_fert_km_sel_correto,x='VL_FOB',log_scale=True,col='name', bins=20, facet_kws=dict(sharex=False, sharey=False))\n",
    "plt.show()"
   ]
  }
 ],
 "metadata": {
  "kernelspec": {
   "display_name": "Python 3 (ipykernel)",
   "language": "python",
   "name": "python3"
  },
  "language_info": {
   "codemirror_mode": {
    "name": "ipython",
    "version": 3
   },
   "file_extension": ".py",
   "mimetype": "text/x-python",
   "name": "python",
   "nbconvert_exporter": "python",
   "pygments_lexer": "ipython3",
   "version": "3.11.2"
  }
 },
 "nbformat": 4,
 "nbformat_minor": 5
}
