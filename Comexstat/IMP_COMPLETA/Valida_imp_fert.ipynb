{
 "cells": [
  {
   "cell_type": "code",
   "execution_count": 1,
   "id": "035bfe69-8097-4497-8fcb-ac60cb401b41",
   "metadata": {},
   "outputs": [],
   "source": [
    "import numpy as np\n",
    "import pandas as pd\n",
    "import matplotlib.pyplot as plt\n",
    "import seaborn as sns\n",
    "\n",
    "# Carrega a tabela imortação\n",
    "imp_fert=pd.read_csv('~/git/BD/temp/imp_fert1.csv')\n",
    "\n",
    "# Carrega a tabela complementar NCM\n",
    "ncm=pd.read_csv('~/git/BD/Comexstat/tab_complementares/NCM.csv', encoding='Latin-1',sep=';')\n",
    "\n",
    "# Funde as tabelas\n",
    "imp_fert=ncm.merge(imp_fert)\n",
    "\n",
    "imp_fert=imp_fert.drop(columns=imp_fert.columns[2:11])\n",
    "imp_fert=imp_fert.drop(columns=imp_fert.columns[3:5])"
   ]
  },
  {
   "cell_type": "code",
   "execution_count": 2,
   "id": "9e3dabdc-4835-4aad-a44a-36d9cb9eac25",
   "metadata": {},
   "outputs": [],
   "source": [
    "imp_fert.CO_NCM=imp_fert.CO_NCM.astype(str)"
   ]
  },
  {
   "cell_type": "code",
   "execution_count": 3,
   "id": "40cbe1b8-a8d9-48c8-a2e8-f80877fe0f9f",
   "metadata": {},
   "outputs": [],
   "source": [
    "# Ranqueia a seleciona os 10 maiores NCMs em peso\n",
    "imp_fert_top=imp_fert.groupby('CO_NCM').KG_LIQUIDO.sum().sort_values(ascending=False).reset_index().head(10)['CO_NCM'].values\n",
    "\n",
    "# Filtra a tabela deixano passar somente os registros dos NCMs top\n",
    "imp_fert=imp_fert[imp_fert.CO_NCM.isin(imp_fert_top)]"
   ]
  },
  {
   "cell_type": "code",
   "execution_count": 4,
   "id": "6b59bc68-d554-43b9-b1fe-182e483e2091",
   "metadata": {},
   "outputs": [],
   "source": [
    "pd.options.display.max_colwidth = 150"
   ]
  },
  {
   "cell_type": "code",
   "execution_count": 5,
   "id": "98261c58-1275-440d-8245-d2628389afdd",
   "metadata": {},
   "outputs": [],
   "source": [
    "name=['NPK','MAP','NAM','NP','MOP','OSP','SAM','SSP','TSP','UREIA']"
   ]
  },
  {
   "cell_type": "code",
   "execution_count": 6,
   "id": "7de42668-0ec0-44dc-aede-fabc19003f80",
   "metadata": {},
   "outputs": [
    {
     "data": {
      "text/plain": [
       "10"
      ]
     },
     "execution_count": 6,
     "metadata": {},
     "output_type": "execute_result"
    }
   ],
   "source": [
    "len(name)"
   ]
  },
  {
   "cell_type": "code",
   "execution_count": 7,
   "id": "516aef6c-5da8-458a-bb91-8901133e0c49",
   "metadata": {},
   "outputs": [],
   "source": [
    "tab_name=imp_fert[['NO_NCM_POR']].drop_duplicates().sort_values(by='NO_NCM_POR').assign(name=name)"
   ]
  },
  {
   "cell_type": "code",
   "execution_count": 8,
   "id": "5d42a847-be0b-4631-809a-549a3a8222fd",
   "metadata": {},
   "outputs": [],
   "source": [
    "imp_fert=imp_fert.merge(tab_name)"
   ]
  },
  {
   "cell_type": "code",
   "execution_count": 9,
   "id": "f7aadf68-67c2-4b21-b46a-909863673e9a",
   "metadata": {},
   "outputs": [],
   "source": [
    "# Visualiza cronologicamenete os pesos por NCM\n",
    "\n",
    "# Define o título dos gráficos\n",
    "title='Importação de Fertilizantes'"
   ]
  },
  {
   "cell_type": "code",
   "execution_count": 10,
   "id": "6bbc1a52-ea8c-48bb-85b7-671671fd0470",
   "metadata": {},
   "outputs": [],
   "source": [
    "# Insere coluna com a data\n",
    "imp_fert.insert(0,'date',pd.to_datetime(imp_fert.CO_ANO.astype(str)+'/'+imp_fert.CO_MES.astype(str)+'/1'))"
   ]
  },
  {
   "cell_type": "raw",
   "id": "b731c895-b56c-4916-8974-ee0c937c0d6d",
   "metadata": {},
   "source": [
    "# Visualiza cronologicamenete os pesos por NCM\n",
    "sns.relplot(data=imp_fert.sort_values('name'),x='date',y='KG_LIQUIDO', col='name', col_wrap=5, facet_kws=dict(sharey=False))\\\n",
    ".fig.suptitle(title,y=1.1)\n",
    "plt.show()"
   ]
  },
  {
   "cell_type": "raw",
   "id": "2e570955-38f8-4dfc-ae1b-0055810d475e",
   "metadata": {},
   "source": [
    "# Visualiza cronologicamenete os valores por NCM\n",
    "sns.relplot(data=imp_fert.sort_values('name'),x='date',y='VL_FOB', col='name', col_wrap=5, facet_kws=dict(sharey=False))\\\n",
    ".fig.suptitle(title,y=1.1)\n",
    "plt.show()"
   ]
  },
  {
   "cell_type": "code",
   "execution_count": 11,
   "id": "8caedf1c-dda9-40ce-869a-fc0151634de4",
   "metadata": {},
   "outputs": [],
   "source": [
    "# Descarta os 3 tipos de superfosfatos, pois estes produtos tem diferentes concetrações de nutrinetes e\n",
    "# necessitaria um trabalho direcionado a essa caracteriística\n",
    "descarte=['SSP','TSP','OSP','XSP']\n",
    "imp_fert=imp_fert[~imp_fert.name.isin(descarte)]"
   ]
  },
  {
   "cell_type": "raw",
   "id": "219c6248-6aee-4a94-a6f9-41bd4ae02ee4",
   "metadata": {},
   "source": [
    "# Visualiza cronologicamenete os pesos por NCM\n",
    "sns.relplot(height=2,aspect=2,data=imp_fert[imp_fert.name.isin(['UREIA'])],x='date',y='KG_LIQUIDO', facet_kws=dict(sharey=False))\\\n",
    ".fig.suptitle(title,y=1.1)\n",
    "plt.show()\n",
    "\n",
    "# Visualiza cronologicamenete os valores por NCM\n",
    "sns.relplot(height=2,aspect=2,data=imp_fert[imp_fert.name.isin(['UREIA'])],x='date',y='VL_FOB', facet_kws=dict(sharey=False))\\\n",
    ".fig.suptitle(title,y=1.1)\n",
    "plt.show()"
   ]
  },
  {
   "cell_type": "code",
   "execution_count": 12,
   "id": "e3281149-1312-447c-971b-e3991a2f94b7",
   "metadata": {},
   "outputs": [],
   "source": [
    "# Corrige erro do tipo aleatório que visualmente comprime os pesos na parte baixa do gráfico da ureia, sendo esse o único valor\n",
    "# de potência 10**9 de todo o conjunto de dados.\n",
    "\n",
    "# Crai tabela temporária somente com o registro do erro máximo\n",
    "imp_fert_err=imp_fert[imp_fert.KG_LIQUIDO==imp_fert.KG_LIQUIDO.max()]\n",
    "\n",
    "# Cria tabela temporária sem o erro registro do erro máximo\n",
    "imp_fert_correto=imp_fert[imp_fert.KG_LIQUIDO!=imp_fert.KG_LIQUIDO.max()]\n",
    "\n",
    "# Identifica data e NCM do erro\n",
    "data_prdt_err=imp_fert_err[['date','name']]\n",
    "\n",
    "# Identifica registros sem erro na mesma data com o mesmo produto\n",
    "imp_fert_correto_data_err=imp_fert_correto.merge(data_prdt_err)\n",
    "\n",
    "# Calcula soma do valores e pesos corretos na data e para o produto do erro\n",
    "imp_fert_correto_data_err=imp_fert_correto_data_err.groupby('name')[['VL_FOB','KG_LIQUIDO']].sum()\n",
    "\n",
    "# Cálcula o preço médio correto do produto na data do erro\n",
    "preço_correção=(imp_fert_correto_data_err.VL_FOB / imp_fert_correto_data_err.KG_LIQUIDO).values[0]\n",
    "\n",
    "# Cálcula o preço correto do produto na data do erro, e o insere na tabela com erro\n",
    "#imp_fert_correto_data_err=imp_fert_correto_data_err.assign(preço=preço_correção)\n",
    "#preço_correção=imp_fert_correto_data_err.preço.values[0]\n",
    "\n",
    "# Através do valor importado, que já estava correto, e do preço corrigido, se determina o peso corrigido\n",
    "imp_fert_err.loc[:,'KG_LIQUIDO']=round(imp_fert_err.VL_FOB / preço_correção).astype(int)\n",
    "\n",
    "# Conclui a correção\n",
    "imp_fert_corrigido=imp_fert_err\n",
    "\n",
    "# Concatena importações corrigidas e originalmente corretas\n",
    "imp_fert=pd.concat([imp_fert_corrigido,imp_fert_correto])"
   ]
  },
  {
   "cell_type": "raw",
   "id": "9ead72b6-747e-40d2-87a8-1643a61b44b0",
   "metadata": {},
   "source": [
    "# Visualiza cronologicamenete os pesos por NCM\n",
    "sns.relplot(height=2,aspect=2,data=imp_fert[imp_fert.name.isin(['UREIA'])],x='date',y='KG_LIQUIDO', facet_kws=dict(sharey=False))\\\n",
    ".fig.suptitle(title,y=1.1)\n",
    "plt.show()\n",
    "\n",
    "# Visualiza cronologicamenete os valores por NCM\n",
    "sns.relplot(height=2,aspect=2,data=imp_fert[imp_fert.name.isin(['UREIA'])],x='date',y='VL_FOB', facet_kws=dict(sharey=False))\\\n",
    ".fig.suptitle(title,y=1.1)\n",
    "plt.show()"
   ]
  },
  {
   "cell_type": "code",
   "execution_count": 13,
   "id": "54e8b159-00ef-4225-938e-9f6a5cd0d567",
   "metadata": {},
   "outputs": [
    {
     "name": "stdout",
     "output_type": "stream",
     "text": [
      "Exitem 0 duplicatas das colunas categóricas\n"
     ]
    }
   ],
   "source": [
    "# Confere existência de duplicatas\n",
    "print(f\"Exitem {imp_fert.loc[:,:'CO_URF'].duplicated().sum()} duplicatas das colunas categóricas\")"
   ]
  },
  {
   "cell_type": "code",
   "execution_count": 14,
   "id": "45c9e3fc-9fd1-46d1-978c-ad89e3aa3c23",
   "metadata": {},
   "outputs": [
    {
     "name": "stdout",
     "output_type": "stream",
     "text": [
      "Exitem 0 NANs nos registros\n"
     ]
    }
   ],
   "source": [
    "# Confere existência de nan\n",
    "print(f\"Exitem {imp_fert.isna().sum().sum()} NANs nos registros\")"
   ]
  },
  {
   "cell_type": "code",
   "execution_count": 15,
   "id": "3a67abc9-a130-49fe-b01d-4d14aa8ae533",
   "metadata": {},
   "outputs": [
    {
     "name": "stdout",
     "output_type": "stream",
     "text": [
      "\n",
      "Função ***corrige_inflação_dólar(df_ano_mes_valor,col_vl_name)*** disponível.\n",
      "\n"
     ]
    }
   ],
   "source": [
    "# Carrega função que corrige inflação do dólar\n",
    "%run 'corrige_inflação_dólar.ipynb'"
   ]
  },
  {
   "cell_type": "code",
   "execution_count": 16,
   "id": "4d068300-f97d-4784-9665-66a6fec1f679",
   "metadata": {},
   "outputs": [],
   "source": [
    "# Corrige inflação do dólar\n",
    "for col in ['VL_FOB','VL_FRETE','VL_SEGURO']:\n",
    "    df=corrige_inflação_dólar(imp_fert,col)"
   ]
  },
  {
   "cell_type": "code",
   "execution_count": 17,
   "id": "9553f276-500e-4065-a758-8436d20c832c",
   "metadata": {},
   "outputs": [
    {
     "name": "stdout",
     "output_type": "stream",
     "text": [
      "Valor contido nos registros com peso igual a zero corresponde a 0 % do total e foram descartados.\n"
     ]
    }
   ],
   "source": [
    "# %  de valor em registros com peso igual a zero\n",
    "print(f\"Valor contido nos registros com peso igual a zero corresponde a \\\n",
    "{round(100 * imp_fert[imp_fert.KG_LIQUIDO==0].VL_FOB.sum() / imp_fert.VL_FOB.sum())} % do total e foram descartados.\")\n",
    "\n",
    "# Descarta peso igual a zero\n",
    "imp_fert=imp_fert[imp_fert.KG_LIQUIDO!=0]"
   ]
  },
  {
   "cell_type": "code",
   "execution_count": 18,
   "id": "a5b5c9f9-bbab-4b58-8d5c-c545900727fa",
   "metadata": {},
   "outputs": [
    {
     "name": "stdout",
     "output_type": "stream",
     "text": [
      "Peso contido nos registros com valor igual a zero corresponde a 0 % do total e foram descartados.\n"
     ]
    }
   ],
   "source": [
    "# %  de peso em registros com valor igual a zero\n",
    "print(f\"Peso contido nos registros com valor igual a zero corresponde a \\\n",
    "{round(100 * imp_fert[imp_fert.VL_FOB==0].KG_LIQUIDO.sum() / imp_fert.KG_LIQUIDO.sum())} % do total e foram descartados.\")\n",
    "\n",
    "# Descarta valor igual a zero\n",
    "imp_fert=imp_fert[imp_fert.VL_FOB!=0]"
   ]
  },
  {
   "cell_type": "code",
   "execution_count": 19,
   "id": "0f54778b-2118-4823-b623-e122fe9e1d67",
   "metadata": {},
   "outputs": [
    {
     "data": {
      "text/html": [
       "<div>\n",
       "<style scoped>\n",
       "    .dataframe tbody tr th:only-of-type {\n",
       "        vertical-align: middle;\n",
       "    }\n",
       "\n",
       "    .dataframe tbody tr th {\n",
       "        vertical-align: top;\n",
       "    }\n",
       "\n",
       "    .dataframe thead th {\n",
       "        text-align: right;\n",
       "    }\n",
       "</style>\n",
       "<table border=\"1\" class=\"dataframe\">\n",
       "  <thead>\n",
       "    <tr style=\"text-align: right;\">\n",
       "      <th></th>\n",
       "      <th>CO_VIA</th>\n",
       "      <th>KG_LIQUIDO</th>\n",
       "    </tr>\n",
       "  </thead>\n",
       "  <tbody>\n",
       "    <tr>\n",
       "      <th>0</th>\n",
       "      <td>1</td>\n",
       "      <td>471015391462</td>\n",
       "    </tr>\n",
       "    <tr>\n",
       "      <th>1</th>\n",
       "      <td>7</td>\n",
       "      <td>769827690</td>\n",
       "    </tr>\n",
       "    <tr>\n",
       "      <th>2</th>\n",
       "      <td>6</td>\n",
       "      <td>159185663</td>\n",
       "    </tr>\n",
       "    <tr>\n",
       "      <th>3</th>\n",
       "      <td>2</td>\n",
       "      <td>5303290</td>\n",
       "    </tr>\n",
       "    <tr>\n",
       "      <th>4</th>\n",
       "      <td>4</td>\n",
       "      <td>226756</td>\n",
       "    </tr>\n",
       "    <tr>\n",
       "      <th>5</th>\n",
       "      <td>9</td>\n",
       "      <td>10000</td>\n",
       "    </tr>\n",
       "    <tr>\n",
       "      <th>6</th>\n",
       "      <td>5</td>\n",
       "      <td>1</td>\n",
       "    </tr>\n",
       "  </tbody>\n",
       "</table>\n",
       "</div>"
      ],
      "text/plain": [
       "   CO_VIA    KG_LIQUIDO\n",
       "0       1  471015391462\n",
       "1       7     769827690\n",
       "2       6     159185663\n",
       "3       2       5303290\n",
       "4       4        226756\n",
       "5       9         10000\n",
       "6       5             1"
      ]
     },
     "execution_count": 19,
     "metadata": {},
     "output_type": "execute_result"
    }
   ],
   "source": [
    "# Verifica participação das vias no peso total importado\n",
    "rank_vias=imp_fert.groupby('CO_VIA').KG_LIQUIDO.sum().sort_values(ascending=False).reset_index()\n",
    "rank_vias"
   ]
  },
  {
   "cell_type": "code",
   "execution_count": 20,
   "id": "585f7100-cd14-44eb-be52-99cca0878335",
   "metadata": {},
   "outputs": [
    {
     "name": "stdout",
     "output_type": "stream",
     "text": [
      "A via amplamente líder é a MARITIMA, código 1. As demais serão descartadas.\n"
     ]
    }
   ],
   "source": [
    "# Identifica a via líder em movimentação \n",
    "via=pd.read_csv('~/git/BD/Comexstat/tab_complementares/VIA.csv',encoding='Latin-1',sep=';')\n",
    "print(f\"A via amplamente líder é a {via[via.CO_VIA==rank_vias.CO_VIA.values[0]].NO_VIA.values[0]}, código {via[via.CO_VIA==rank_vias.CO_VIA.values[0]].CO_VIA.values[0]}. As demais serão descartadas.\")"
   ]
  },
  {
   "cell_type": "code",
   "execution_count": 21,
   "id": "22a001e2-d359-4a36-9de8-15d863a6d76e",
   "metadata": {},
   "outputs": [],
   "source": [
    "# Filtra deixando passar somente  a via 1\n",
    "imp_fert=imp_fert[imp_fert.CO_VIA==1]"
   ]
  },
  {
   "cell_type": "raw",
   "id": "fdf87f53-28aa-4792-812b-259688bde883",
   "metadata": {},
   "source": [
    "CO_UNID e QT_ESTAT contém unidade quantidade de medida de peso utilizada pelo país exportador, que pode não ser o quilograma. Esse projeto utilizará somente quilograma e por tanto essas colunas serão descartadas."
   ]
  },
  {
   "cell_type": "code",
   "execution_count": 22,
   "id": "99d453d3-c805-4afc-9d74-207662b22e74",
   "metadata": {},
   "outputs": [],
   "source": [
    "# Descarta as colunas como previsto\n",
    "imp_fert.drop(columns=['CO_VIA','CO_UNID','QT_ESTAT'],inplace=True)"
   ]
  },
  {
   "cell_type": "code",
   "execution_count": 23,
   "id": "b2cfa927-da6c-43d7-8d60-f84f27137c7d",
   "metadata": {},
   "outputs": [
    {
     "name": "stdout",
     "output_type": "stream",
     "text": [
      " 572.234 toneladas e 85.263 mil de dólares de mercadoria constam em 90 registros com valor de frete igual a zero e este será descartado.\n"
     ]
    }
   ],
   "source": [
    "print(f' {imp_fert[imp_fert.VL_FRETE==0].KG_LIQUIDO.sum()/10**3} toneladas e {imp_fert[imp_fert.VL_FRETE==0].VL_FOB.sum()/10**3} \\\n",
    "mil de dólares de mercadoria constam em {len(imp_fert[imp_fert.VL_FRETE==0])} registros com valor de frete igual a zero e este será descartado.')"
   ]
  },
  {
   "cell_type": "code",
   "execution_count": 24,
   "id": "fda9b78f-f237-49f2-9484-2c67a03350b0",
   "metadata": {},
   "outputs": [],
   "source": [
    "imp_fert=imp_fert[imp_fert.VL_FRETE!=0]"
   ]
  },
  {
   "cell_type": "code",
   "execution_count": 25,
   "id": "ed4c4ce8-ad9a-4a4d-9f00-e718c15674f3",
   "metadata": {},
   "outputs": [
    {
     "data": {
      "text/html": [
       "<div>\n",
       "<style scoped>\n",
       "    .dataframe tbody tr th:only-of-type {\n",
       "        vertical-align: middle;\n",
       "    }\n",
       "\n",
       "    .dataframe tbody tr th {\n",
       "        vertical-align: top;\n",
       "    }\n",
       "\n",
       "    .dataframe thead th {\n",
       "        text-align: right;\n",
       "    }\n",
       "</style>\n",
       "<table border=\"1\" class=\"dataframe\">\n",
       "  <thead>\n",
       "    <tr style=\"text-align: right;\">\n",
       "      <th></th>\n",
       "      <th>date</th>\n",
       "      <th>CO_NCM</th>\n",
       "      <th>NO_NCM_POR</th>\n",
       "      <th>CO_ANO</th>\n",
       "      <th>CO_MES</th>\n",
       "      <th>CO_PAIS</th>\n",
       "      <th>SG_UF_NCM</th>\n",
       "      <th>CO_URF</th>\n",
       "      <th>KG_LIQUIDO</th>\n",
       "      <th>VL_FOB</th>\n",
       "      <th>VL_FRETE</th>\n",
       "      <th>VL_SEGURO</th>\n",
       "      <th>name</th>\n",
       "    </tr>\n",
       "  </thead>\n",
       "  <tbody>\n",
       "  </tbody>\n",
       "</table>\n",
       "</div>"
      ],
      "text/plain": [
       "Empty DataFrame\n",
       "Columns: [date, CO_NCM, NO_NCM_POR, CO_ANO, CO_MES, CO_PAIS, SG_UF_NCM, CO_URF, KG_LIQUIDO, VL_FOB, VL_FRETE, VL_SEGURO, name]\n",
       "Index: []"
      ]
     },
     "execution_count": 25,
     "metadata": {},
     "output_type": "execute_result"
    }
   ],
   "source": [
    "# Confere existência de quantidades negativas\n",
    "imp_fert[(imp_fert.VL_FOB<0)|(imp_fert.VL_FRETE<0)|(imp_fert.KG_LIQUIDO<0)]"
   ]
  },
  {
   "cell_type": "markdown",
   "id": "e4e44943-2c9e-4739-9ac5-b667641350a5",
   "metadata": {},
   "source": [
    "# Segementando os NCMs"
   ]
  },
  {
   "cell_type": "code",
   "execution_count": 26,
   "id": "666ea83d-e635-49a3-94ec-089e81c66ec2",
   "metadata": {},
   "outputs": [
    {
     "data": {
      "image/png": "[encoded data removed]",
      "text/plain": [
       "<Figure size 2500x1000 with 7 Axes>"
      ]
     },
     "metadata": {},
     "output_type": "display_data"
    }
   ],
   "source": [
    "sns.displot(data=imp_fert.sort_values(by='name'),x='KG_LIQUIDO',col='name',col_wrap=5, log_scale=True, bins=20, facet_kws=dict(sharey=False))\n",
    "plt.show()"
   ]
  },
  {
   "cell_type": "code",
   "execution_count": 27,
   "id": "74a581a5-1749-4934-94fc-de225949ff81",
   "metadata": {},
   "outputs": [],
   "source": [
    "imp_fert=imp_fert[imp_fert.KG_LIQUIDO<10**7.5]"
   ]
  },
  {
   "cell_type": "raw",
   "id": "a58d3179-7bae-434d-8000-13c2ef206900",
   "metadata": {},
   "source": [
    "sns.displot(data=imp_fert,x='VL_FOB',col='name',col_wrap=5, log_scale=True, bins=20, facet_kws=dict(sharey=False))\n",
    "plt.show()"
   ]
  },
  {
   "cell_type": "markdown",
   "id": "67177a93-3f43-4f93-a788-e5e1928eb093",
   "metadata": {},
   "source": [
    "Exitem 3 produtos que apresentam comportamento bimodal: NP, NPK e MAP. Eles serão segmentados e os segmentos menores excluídos deste projeto."
   ]
  },
  {
   "cell_type": "code",
   "execution_count": 28,
   "id": "edf46f72-65cb-4141-a6cd-6b60d9d36513",
   "metadata": {},
   "outputs": [],
   "source": [
    "i_seg=imp_fert#[imp_fert.name.isin(['NP','NPK','MAP'])]"
   ]
  },
  {
   "cell_type": "code",
   "execution_count": 29,
   "id": "067a21db-19d4-40f4-ac12-7ab8533ecf04",
   "metadata": {},
   "outputs": [],
   "source": [
    "i_n_seg=pd.DataFrame()#imp_fert[~imp_fert.name.isin(['NP','NPK','MAP'])]"
   ]
  },
  {
   "cell_type": "code",
   "execution_count": 30,
   "id": "d195f25a-68cd-48ee-8b13-b72006058783",
   "metadata": {},
   "outputs": [],
   "source": [
    "i_seg=i_seg.assign(preço_frete=i_seg.VL_FRETE/i_seg.KG_LIQUIDO)\n",
    "i_seg=i_seg.assign(preço_fob=i_seg.VL_FOB/i_seg.KG_LIQUIDO)\n",
    "\n",
    "i_seg=i_seg.assign(log_kg=np.log10(i_seg.KG_LIQUIDO))\n",
    "\n",
    "i_seg=i_seg.assign(log_fob=np.log10(i_seg.VL_FOB))\n",
    "\n",
    "i_seg=i_seg.assign(log_frete=np.log10(i_seg.VL_FRETE))\n",
    "\n",
    "from sklearn.preprocessing import MinMaxScaler as MMS\n",
    "MMS=MMS()\n",
    "\n",
    "i_seg=pd.concat([i_seg.reset_index(drop=True),\\\n",
    "                 pd.DataFrame(MMS.fit_transform(i_seg[['log_kg','log_fob','log_frete','preço_fob','preço_frete']]),\\\n",
    "                              columns=['log_kg_s','log_fob_s','log_frete_s','preço_fob_s','preço_frete_s'])]\\\n",
    "                ,axis=1)"
   ]
  },
  {
   "cell_type": "code",
   "execution_count": 31,
   "id": "cfcc4015-4968-4fdf-9016-6e1ce0c0719b",
   "metadata": {},
   "outputs": [],
   "source": [
    "from sklearn.cluster import KMeans as KM\n",
    "KM=KM(n_clusters=2)\n",
    "\n",
    "q=pd.DataFrame()\n",
    "for name in i_seg.name.unique():\n",
    "    i_seg_t=i_seg[i_seg.name==name]\n",
    "    i_seg_t=i_seg_t.assign(km=KM.fit_predict(i_seg_t[['log_kg_s','log_fob_s','log_frete_s','preço_fob_s','preço_frete_s']]))\n",
    "    q=pd.concat([q,i_seg_t])\n",
    "i_seg2=q"
   ]
  },
  {
   "cell_type": "code",
   "execution_count": 32,
   "id": "dd00bf29-a2bb-4f05-94c0-f2792ac51219",
   "metadata": {},
   "outputs": [
    {
     "data": {
      "image/png": "[encoded data removed]",
      "text/plain": [
       "<Figure size 3558.87x500 with 7 Axes>"
      ]
     },
     "metadata": {},
     "output_type": "display_data"
    }
   ],
   "source": [
    "sns.displot(data=i_seg2,x='KG_LIQUIDO',col='name', log_scale=True, bins=20, facet_kws=dict(sharey=False),hue='km')\n",
    "plt.show()"
   ]
  },
  {
   "cell_type": "code",
   "execution_count": 33,
   "id": "2ab993f3-e2da-4022-a562-4e0be0ecb89b",
   "metadata": {},
   "outputs": [],
   "source": [
    "i_seg=i_seg2.copy()"
   ]
  },
  {
   "cell_type": "code",
   "execution_count": 34,
   "id": "a4884749-b59c-4363-91e0-9ab490cb55f6",
   "metadata": {},
   "outputs": [
    {
     "data": {
      "text/html": [
       "<div>\n",
       "<style scoped>\n",
       "    .dataframe tbody tr th:only-of-type {\n",
       "        vertical-align: middle;\n",
       "    }\n",
       "\n",
       "    .dataframe tbody tr th {\n",
       "        vertical-align: top;\n",
       "    }\n",
       "\n",
       "    .dataframe thead th {\n",
       "        text-align: right;\n",
       "    }\n",
       "</style>\n",
       "<table border=\"1\" class=\"dataframe\">\n",
       "  <thead>\n",
       "    <tr style=\"text-align: right;\">\n",
       "      <th></th>\n",
       "      <th>name</th>\n",
       "      <th>CO_NCM</th>\n",
       "      <th>km</th>\n",
       "      <th>mean</th>\n",
       "    </tr>\n",
       "  </thead>\n",
       "  <tbody>\n",
       "    <tr>\n",
       "      <th>12</th>\n",
       "      <td>UREIA</td>\n",
       "      <td>31021010</td>\n",
       "      <td>0</td>\n",
       "      <td>7.389954e+06</td>\n",
       "    </tr>\n",
       "    <tr>\n",
       "      <th>13</th>\n",
       "      <td>UREIA</td>\n",
       "      <td>31021010</td>\n",
       "      <td>1</td>\n",
       "      <td>1.942832e+05</td>\n",
       "    </tr>\n",
       "    <tr>\n",
       "      <th>10</th>\n",
       "      <td>SAM</td>\n",
       "      <td>31022100</td>\n",
       "      <td>0</td>\n",
       "      <td>5.439181e+06</td>\n",
       "    </tr>\n",
       "    <tr>\n",
       "      <th>11</th>\n",
       "      <td>SAM</td>\n",
       "      <td>31022100</td>\n",
       "      <td>1</td>\n",
       "      <td>1.429514e+05</td>\n",
       "    </tr>\n",
       "    <tr>\n",
       "      <th>8</th>\n",
       "      <td>NPK</td>\n",
       "      <td>31052000</td>\n",
       "      <td>0</td>\n",
       "      <td>5.923993e+06</td>\n",
       "    </tr>\n",
       "    <tr>\n",
       "      <th>9</th>\n",
       "      <td>NPK</td>\n",
       "      <td>31052000</td>\n",
       "      <td>1</td>\n",
       "      <td>6.804605e+04</td>\n",
       "    </tr>\n",
       "    <tr>\n",
       "      <th>7</th>\n",
       "      <td>NP</td>\n",
       "      <td>31055900</td>\n",
       "      <td>1</td>\n",
       "      <td>7.177420e+06</td>\n",
       "    </tr>\n",
       "    <tr>\n",
       "      <th>6</th>\n",
       "      <td>NP</td>\n",
       "      <td>31055900</td>\n",
       "      <td>0</td>\n",
       "      <td>5.538015e+04</td>\n",
       "    </tr>\n",
       "    <tr>\n",
       "      <th>5</th>\n",
       "      <td>NAM</td>\n",
       "      <td>31023000</td>\n",
       "      <td>1</td>\n",
       "      <td>8.930529e+06</td>\n",
       "    </tr>\n",
       "    <tr>\n",
       "      <th>4</th>\n",
       "      <td>NAM</td>\n",
       "      <td>31023000</td>\n",
       "      <td>0</td>\n",
       "      <td>6.832502e+05</td>\n",
       "    </tr>\n",
       "    <tr>\n",
       "      <th>2</th>\n",
       "      <td>MOP</td>\n",
       "      <td>31042090</td>\n",
       "      <td>0</td>\n",
       "      <td>9.561456e+06</td>\n",
       "    </tr>\n",
       "    <tr>\n",
       "      <th>3</th>\n",
       "      <td>MOP</td>\n",
       "      <td>31042090</td>\n",
       "      <td>1</td>\n",
       "      <td>5.588377e+05</td>\n",
       "    </tr>\n",
       "    <tr>\n",
       "      <th>0</th>\n",
       "      <td>MAP</td>\n",
       "      <td>31054000</td>\n",
       "      <td>0</td>\n",
       "      <td>7.412794e+06</td>\n",
       "    </tr>\n",
       "    <tr>\n",
       "      <th>1</th>\n",
       "      <td>MAP</td>\n",
       "      <td>31054000</td>\n",
       "      <td>1</td>\n",
       "      <td>3.343119e+05</td>\n",
       "    </tr>\n",
       "  </tbody>\n",
       "</table>\n",
       "</div>"
      ],
      "text/plain": [
       "     name    CO_NCM  km          mean\n",
       "12  UREIA  31021010   0  7.389954e+06\n",
       "13  UREIA  31021010   1  1.942832e+05\n",
       "10    SAM  31022100   0  5.439181e+06\n",
       "11    SAM  31022100   1  1.429514e+05\n",
       "8     NPK  31052000   0  5.923993e+06\n",
       "9     NPK  31052000   1  6.804605e+04\n",
       "7      NP  31055900   1  7.177420e+06\n",
       "6      NP  31055900   0  5.538015e+04\n",
       "5     NAM  31023000   1  8.930529e+06\n",
       "4     NAM  31023000   0  6.832502e+05\n",
       "2     MOP  31042090   0  9.561456e+06\n",
       "3     MOP  31042090   1  5.588377e+05\n",
       "0     MAP  31054000   0  7.412794e+06\n",
       "1     MAP  31054000   1  3.343119e+05"
      ]
     },
     "execution_count": 34,
     "metadata": {},
     "output_type": "execute_result"
    }
   ],
   "source": [
    "i_seg_tab=i_seg.groupby(by=['name','CO_NCM', 'km']).KG_LIQUIDO.mean().reset_index()\\\n",
    ".sort_values(by=['name','KG_LIQUIDO','CO_NCM'], ascending=False)\\\n",
    ".rename(columns={'KG_LIQUIDO':'mean'})\n",
    "#i_seg_tab['CO_NCM_new']=i_seg_tab.CO_NCM+'-'+i_seg_tab.km.astype(str)\n",
    "i_seg_tab"
   ]
  },
  {
   "cell_type": "code",
   "execution_count": 35,
   "id": "8a28c29d-712b-47a1-a15b-b11e99a9d7bc",
   "metadata": {},
   "outputs": [
    {
     "data": {
      "text/plain": [
       "['-hi',\n",
       " '-low',\n",
       " '-hi',\n",
       " '-low',\n",
       " '-hi',\n",
       " '-low',\n",
       " '-hi',\n",
       " '-low',\n",
       " '-hi',\n",
       " '-low',\n",
       " '-hi',\n",
       " '-low',\n",
       " '-hi',\n",
       " '-low']"
      ]
     },
     "execution_count": 35,
     "metadata": {},
     "output_type": "execute_result"
    }
   ],
   "source": [
    "ad_name=['-hi','-low']*(int(len(i_seg_tab)/2))\n",
    "ad_name"
   ]
  },
  {
   "cell_type": "code",
   "execution_count": 36,
   "id": "8936ed05-9d26-403d-ab6d-d81ce3340579",
   "metadata": {},
   "outputs": [
    {
     "data": {
      "text/html": [
       "<div>\n",
       "<style scoped>\n",
       "    .dataframe tbody tr th:only-of-type {\n",
       "        vertical-align: middle;\n",
       "    }\n",
       "\n",
       "    .dataframe tbody tr th {\n",
       "        vertical-align: top;\n",
       "    }\n",
       "\n",
       "    .dataframe thead th {\n",
       "        text-align: right;\n",
       "    }\n",
       "</style>\n",
       "<table border=\"1\" class=\"dataframe\">\n",
       "  <thead>\n",
       "    <tr style=\"text-align: right;\">\n",
       "      <th></th>\n",
       "      <th>name</th>\n",
       "      <th>CO_NCM</th>\n",
       "      <th>km</th>\n",
       "      <th>mean</th>\n",
       "      <th>ad_name</th>\n",
       "    </tr>\n",
       "  </thead>\n",
       "  <tbody>\n",
       "    <tr>\n",
       "      <th>12</th>\n",
       "      <td>UREIA</td>\n",
       "      <td>31021010</td>\n",
       "      <td>0</td>\n",
       "      <td>7.389954e+06</td>\n",
       "      <td>-hi</td>\n",
       "    </tr>\n",
       "    <tr>\n",
       "      <th>13</th>\n",
       "      <td>UREIA</td>\n",
       "      <td>31021010</td>\n",
       "      <td>1</td>\n",
       "      <td>1.942832e+05</td>\n",
       "      <td>-low</td>\n",
       "    </tr>\n",
       "    <tr>\n",
       "      <th>10</th>\n",
       "      <td>SAM</td>\n",
       "      <td>31022100</td>\n",
       "      <td>0</td>\n",
       "      <td>5.439181e+06</td>\n",
       "      <td>-hi</td>\n",
       "    </tr>\n",
       "    <tr>\n",
       "      <th>11</th>\n",
       "      <td>SAM</td>\n",
       "      <td>31022100</td>\n",
       "      <td>1</td>\n",
       "      <td>1.429514e+05</td>\n",
       "      <td>-low</td>\n",
       "    </tr>\n",
       "    <tr>\n",
       "      <th>8</th>\n",
       "      <td>NPK</td>\n",
       "      <td>31052000</td>\n",
       "      <td>0</td>\n",
       "      <td>5.923993e+06</td>\n",
       "      <td>-hi</td>\n",
       "    </tr>\n",
       "    <tr>\n",
       "      <th>9</th>\n",
       "      <td>NPK</td>\n",
       "      <td>31052000</td>\n",
       "      <td>1</td>\n",
       "      <td>6.804605e+04</td>\n",
       "      <td>-low</td>\n",
       "    </tr>\n",
       "    <tr>\n",
       "      <th>7</th>\n",
       "      <td>NP</td>\n",
       "      <td>31055900</td>\n",
       "      <td>1</td>\n",
       "      <td>7.177420e+06</td>\n",
       "      <td>-hi</td>\n",
       "    </tr>\n",
       "    <tr>\n",
       "      <th>6</th>\n",
       "      <td>NP</td>\n",
       "      <td>31055900</td>\n",
       "      <td>0</td>\n",
       "      <td>5.538015e+04</td>\n",
       "      <td>-low</td>\n",
       "    </tr>\n",
       "    <tr>\n",
       "      <th>5</th>\n",
       "      <td>NAM</td>\n",
       "      <td>31023000</td>\n",
       "      <td>1</td>\n",
       "      <td>8.930529e+06</td>\n",
       "      <td>-hi</td>\n",
       "    </tr>\n",
       "    <tr>\n",
       "      <th>4</th>\n",
       "      <td>NAM</td>\n",
       "      <td>31023000</td>\n",
       "      <td>0</td>\n",
       "      <td>6.832502e+05</td>\n",
       "      <td>-low</td>\n",
       "    </tr>\n",
       "    <tr>\n",
       "      <th>2</th>\n",
       "      <td>MOP</td>\n",
       "      <td>31042090</td>\n",
       "      <td>0</td>\n",
       "      <td>9.561456e+06</td>\n",
       "      <td>-hi</td>\n",
       "    </tr>\n",
       "    <tr>\n",
       "      <th>3</th>\n",
       "      <td>MOP</td>\n",
       "      <td>31042090</td>\n",
       "      <td>1</td>\n",
       "      <td>5.588377e+05</td>\n",
       "      <td>-low</td>\n",
       "    </tr>\n",
       "    <tr>\n",
       "      <th>0</th>\n",
       "      <td>MAP</td>\n",
       "      <td>31054000</td>\n",
       "      <td>0</td>\n",
       "      <td>7.412794e+06</td>\n",
       "      <td>-hi</td>\n",
       "    </tr>\n",
       "    <tr>\n",
       "      <th>1</th>\n",
       "      <td>MAP</td>\n",
       "      <td>31054000</td>\n",
       "      <td>1</td>\n",
       "      <td>3.343119e+05</td>\n",
       "      <td>-low</td>\n",
       "    </tr>\n",
       "  </tbody>\n",
       "</table>\n",
       "</div>"
      ],
      "text/plain": [
       "     name    CO_NCM  km          mean ad_name\n",
       "12  UREIA  31021010   0  7.389954e+06     -hi\n",
       "13  UREIA  31021010   1  1.942832e+05    -low\n",
       "10    SAM  31022100   0  5.439181e+06     -hi\n",
       "11    SAM  31022100   1  1.429514e+05    -low\n",
       "8     NPK  31052000   0  5.923993e+06     -hi\n",
       "9     NPK  31052000   1  6.804605e+04    -low\n",
       "7      NP  31055900   1  7.177420e+06     -hi\n",
       "6      NP  31055900   0  5.538015e+04    -low\n",
       "5     NAM  31023000   1  8.930529e+06     -hi\n",
       "4     NAM  31023000   0  6.832502e+05    -low\n",
       "2     MOP  31042090   0  9.561456e+06     -hi\n",
       "3     MOP  31042090   1  5.588377e+05    -low\n",
       "0     MAP  31054000   0  7.412794e+06     -hi\n",
       "1     MAP  31054000   1  3.343119e+05    -low"
      ]
     },
     "execution_count": 36,
     "metadata": {},
     "output_type": "execute_result"
    }
   ],
   "source": [
    "i_seg_tab=i_seg_tab.assign(ad_name=ad_name)\n",
    "i_seg_tab"
   ]
  },
  {
   "cell_type": "raw",
   "id": "bfb4c28d-52a4-473e-8135-17c7db4a25d2",
   "metadata": {},
   "source": [
    "i_seg_tab=i_seg_tab[i_seg_tab.ad_name=='-hi']\n",
    "i_seg_tab"
   ]
  },
  {
   "cell_type": "code",
   "execution_count": 37,
   "id": "f7c186c4-c03a-4355-be34-5d77d0d2ef97",
   "metadata": {},
   "outputs": [],
   "source": [
    "i_seg_tab.insert(0,'CO_NCM_new',(i_seg_tab.CO_NCM+i_seg_tab.ad_name))"
   ]
  },
  {
   "cell_type": "code",
   "execution_count": 38,
   "id": "bb36e862-8c2c-4a3f-ac91-0a2efdcfca06",
   "metadata": {},
   "outputs": [],
   "source": [
    "i_seg_tab.insert(0,'name_new',(i_seg_tab.name+i_seg_tab.ad_name))"
   ]
  },
  {
   "cell_type": "code",
   "execution_count": 39,
   "id": "dc9e05e7-c764-47f4-87cc-5f63a79dc4db",
   "metadata": {},
   "outputs": [
    {
     "data": {
      "text/html": [
       "<div>\n",
       "<style scoped>\n",
       "    .dataframe tbody tr th:only-of-type {\n",
       "        vertical-align: middle;\n",
       "    }\n",
       "\n",
       "    .dataframe tbody tr th {\n",
       "        vertical-align: top;\n",
       "    }\n",
       "\n",
       "    .dataframe thead th {\n",
       "        text-align: right;\n",
       "    }\n",
       "</style>\n",
       "<table border=\"1\" class=\"dataframe\">\n",
       "  <thead>\n",
       "    <tr style=\"text-align: right;\">\n",
       "      <th></th>\n",
       "      <th>name_new</th>\n",
       "      <th>CO_NCM_new</th>\n",
       "      <th>name</th>\n",
       "      <th>CO_NCM</th>\n",
       "      <th>km</th>\n",
       "      <th>mean</th>\n",
       "      <th>ad_name</th>\n",
       "    </tr>\n",
       "  </thead>\n",
       "  <tbody>\n",
       "    <tr>\n",
       "      <th>12</th>\n",
       "      <td>UREIA-hi</td>\n",
       "      <td>31021010-hi</td>\n",
       "      <td>UREIA</td>\n",
       "      <td>31021010</td>\n",
       "      <td>0</td>\n",
       "      <td>7.389954e+06</td>\n",
       "      <td>-hi</td>\n",
       "    </tr>\n",
       "    <tr>\n",
       "      <th>13</th>\n",
       "      <td>UREIA-low</td>\n",
       "      <td>31021010-low</td>\n",
       "      <td>UREIA</td>\n",
       "      <td>31021010</td>\n",
       "      <td>1</td>\n",
       "      <td>1.942832e+05</td>\n",
       "      <td>-low</td>\n",
       "    </tr>\n",
       "    <tr>\n",
       "      <th>10</th>\n",
       "      <td>SAM-hi</td>\n",
       "      <td>31022100-hi</td>\n",
       "      <td>SAM</td>\n",
       "      <td>31022100</td>\n",
       "      <td>0</td>\n",
       "      <td>5.439181e+06</td>\n",
       "      <td>-hi</td>\n",
       "    </tr>\n",
       "    <tr>\n",
       "      <th>11</th>\n",
       "      <td>SAM-low</td>\n",
       "      <td>31022100-low</td>\n",
       "      <td>SAM</td>\n",
       "      <td>31022100</td>\n",
       "      <td>1</td>\n",
       "      <td>1.429514e+05</td>\n",
       "      <td>-low</td>\n",
       "    </tr>\n",
       "    <tr>\n",
       "      <th>8</th>\n",
       "      <td>NPK-hi</td>\n",
       "      <td>31052000-hi</td>\n",
       "      <td>NPK</td>\n",
       "      <td>31052000</td>\n",
       "      <td>0</td>\n",
       "      <td>5.923993e+06</td>\n",
       "      <td>-hi</td>\n",
       "    </tr>\n",
       "    <tr>\n",
       "      <th>9</th>\n",
       "      <td>NPK-low</td>\n",
       "      <td>31052000-low</td>\n",
       "      <td>NPK</td>\n",
       "      <td>31052000</td>\n",
       "      <td>1</td>\n",
       "      <td>6.804605e+04</td>\n",
       "      <td>-low</td>\n",
       "    </tr>\n",
       "    <tr>\n",
       "      <th>7</th>\n",
       "      <td>NP-hi</td>\n",
       "      <td>31055900-hi</td>\n",
       "      <td>NP</td>\n",
       "      <td>31055900</td>\n",
       "      <td>1</td>\n",
       "      <td>7.177420e+06</td>\n",
       "      <td>-hi</td>\n",
       "    </tr>\n",
       "    <tr>\n",
       "      <th>6</th>\n",
       "      <td>NP-low</td>\n",
       "      <td>31055900-low</td>\n",
       "      <td>NP</td>\n",
       "      <td>31055900</td>\n",
       "      <td>0</td>\n",
       "      <td>5.538015e+04</td>\n",
       "      <td>-low</td>\n",
       "    </tr>\n",
       "    <tr>\n",
       "      <th>5</th>\n",
       "      <td>NAM-hi</td>\n",
       "      <td>31023000-hi</td>\n",
       "      <td>NAM</td>\n",
       "      <td>31023000</td>\n",
       "      <td>1</td>\n",
       "      <td>8.930529e+06</td>\n",
       "      <td>-hi</td>\n",
       "    </tr>\n",
       "    <tr>\n",
       "      <th>4</th>\n",
       "      <td>NAM-low</td>\n",
       "      <td>31023000-low</td>\n",
       "      <td>NAM</td>\n",
       "      <td>31023000</td>\n",
       "      <td>0</td>\n",
       "      <td>6.832502e+05</td>\n",
       "      <td>-low</td>\n",
       "    </tr>\n",
       "    <tr>\n",
       "      <th>2</th>\n",
       "      <td>MOP-hi</td>\n",
       "      <td>31042090-hi</td>\n",
       "      <td>MOP</td>\n",
       "      <td>31042090</td>\n",
       "      <td>0</td>\n",
       "      <td>9.561456e+06</td>\n",
       "      <td>-hi</td>\n",
       "    </tr>\n",
       "    <tr>\n",
       "      <th>3</th>\n",
       "      <td>MOP-low</td>\n",
       "      <td>31042090-low</td>\n",
       "      <td>MOP</td>\n",
       "      <td>31042090</td>\n",
       "      <td>1</td>\n",
       "      <td>5.588377e+05</td>\n",
       "      <td>-low</td>\n",
       "    </tr>\n",
       "    <tr>\n",
       "      <th>0</th>\n",
       "      <td>MAP-hi</td>\n",
       "      <td>31054000-hi</td>\n",
       "      <td>MAP</td>\n",
       "      <td>31054000</td>\n",
       "      <td>0</td>\n",
       "      <td>7.412794e+06</td>\n",
       "      <td>-hi</td>\n",
       "    </tr>\n",
       "    <tr>\n",
       "      <th>1</th>\n",
       "      <td>MAP-low</td>\n",
       "      <td>31054000-low</td>\n",
       "      <td>MAP</td>\n",
       "      <td>31054000</td>\n",
       "      <td>1</td>\n",
       "      <td>3.343119e+05</td>\n",
       "      <td>-low</td>\n",
       "    </tr>\n",
       "  </tbody>\n",
       "</table>\n",
       "</div>"
      ],
      "text/plain": [
       "     name_new    CO_NCM_new   name    CO_NCM  km          mean ad_name\n",
       "12   UREIA-hi   31021010-hi  UREIA  31021010   0  7.389954e+06     -hi\n",
       "13  UREIA-low  31021010-low  UREIA  31021010   1  1.942832e+05    -low\n",
       "10     SAM-hi   31022100-hi    SAM  31022100   0  5.439181e+06     -hi\n",
       "11    SAM-low  31022100-low    SAM  31022100   1  1.429514e+05    -low\n",
       "8      NPK-hi   31052000-hi    NPK  31052000   0  5.923993e+06     -hi\n",
       "9     NPK-low  31052000-low    NPK  31052000   1  6.804605e+04    -low\n",
       "7       NP-hi   31055900-hi     NP  31055900   1  7.177420e+06     -hi\n",
       "6      NP-low  31055900-low     NP  31055900   0  5.538015e+04    -low\n",
       "5      NAM-hi   31023000-hi    NAM  31023000   1  8.930529e+06     -hi\n",
       "4     NAM-low  31023000-low    NAM  31023000   0  6.832502e+05    -low\n",
       "2      MOP-hi   31042090-hi    MOP  31042090   0  9.561456e+06     -hi\n",
       "3     MOP-low  31042090-low    MOP  31042090   1  5.588377e+05    -low\n",
       "0      MAP-hi   31054000-hi    MAP  31054000   0  7.412794e+06     -hi\n",
       "1     MAP-low  31054000-low    MAP  31054000   1  3.343119e+05    -low"
      ]
     },
     "execution_count": 39,
     "metadata": {},
     "output_type": "execute_result"
    }
   ],
   "source": [
    "i_seg_tab"
   ]
  },
  {
   "cell_type": "code",
   "execution_count": 40,
   "id": "e6c1f152-e6f8-43a7-bad8-306b5039e3bb",
   "metadata": {},
   "outputs": [
    {
     "data": {
      "text/html": [
       "<div>\n",
       "<style scoped>\n",
       "    .dataframe tbody tr th:only-of-type {\n",
       "        vertical-align: middle;\n",
       "    }\n",
       "\n",
       "    .dataframe tbody tr th {\n",
       "        vertical-align: top;\n",
       "    }\n",
       "\n",
       "    .dataframe thead th {\n",
       "        text-align: right;\n",
       "    }\n",
       "</style>\n",
       "<table border=\"1\" class=\"dataframe\">\n",
       "  <thead>\n",
       "    <tr style=\"text-align: right;\">\n",
       "      <th></th>\n",
       "      <th>name_new</th>\n",
       "      <th>CO_NCM_new</th>\n",
       "      <th>name</th>\n",
       "      <th>CO_NCM</th>\n",
       "      <th>km</th>\n",
       "    </tr>\n",
       "  </thead>\n",
       "  <tbody>\n",
       "    <tr>\n",
       "      <th>12</th>\n",
       "      <td>UREIA-hi</td>\n",
       "      <td>31021010-hi</td>\n",
       "      <td>UREIA</td>\n",
       "      <td>31021010</td>\n",
       "      <td>0</td>\n",
       "    </tr>\n",
       "    <tr>\n",
       "      <th>13</th>\n",
       "      <td>UREIA-low</td>\n",
       "      <td>31021010-low</td>\n",
       "      <td>UREIA</td>\n",
       "      <td>31021010</td>\n",
       "      <td>1</td>\n",
       "    </tr>\n",
       "    <tr>\n",
       "      <th>10</th>\n",
       "      <td>SAM-hi</td>\n",
       "      <td>31022100-hi</td>\n",
       "      <td>SAM</td>\n",
       "      <td>31022100</td>\n",
       "      <td>0</td>\n",
       "    </tr>\n",
       "    <tr>\n",
       "      <th>11</th>\n",
       "      <td>SAM-low</td>\n",
       "      <td>31022100-low</td>\n",
       "      <td>SAM</td>\n",
       "      <td>31022100</td>\n",
       "      <td>1</td>\n",
       "    </tr>\n",
       "    <tr>\n",
       "      <th>8</th>\n",
       "      <td>NPK-hi</td>\n",
       "      <td>31052000-hi</td>\n",
       "      <td>NPK</td>\n",
       "      <td>31052000</td>\n",
       "      <td>0</td>\n",
       "    </tr>\n",
       "    <tr>\n",
       "      <th>9</th>\n",
       "      <td>NPK-low</td>\n",
       "      <td>31052000-low</td>\n",
       "      <td>NPK</td>\n",
       "      <td>31052000</td>\n",
       "      <td>1</td>\n",
       "    </tr>\n",
       "    <tr>\n",
       "      <th>7</th>\n",
       "      <td>NP-hi</td>\n",
       "      <td>31055900-hi</td>\n",
       "      <td>NP</td>\n",
       "      <td>31055900</td>\n",
       "      <td>1</td>\n",
       "    </tr>\n",
       "    <tr>\n",
       "      <th>6</th>\n",
       "      <td>NP-low</td>\n",
       "      <td>31055900-low</td>\n",
       "      <td>NP</td>\n",
       "      <td>31055900</td>\n",
       "      <td>0</td>\n",
       "    </tr>\n",
       "    <tr>\n",
       "      <th>5</th>\n",
       "      <td>NAM-hi</td>\n",
       "      <td>31023000-hi</td>\n",
       "      <td>NAM</td>\n",
       "      <td>31023000</td>\n",
       "      <td>1</td>\n",
       "    </tr>\n",
       "    <tr>\n",
       "      <th>4</th>\n",
       "      <td>NAM-low</td>\n",
       "      <td>31023000-low</td>\n",
       "      <td>NAM</td>\n",
       "      <td>31023000</td>\n",
       "      <td>0</td>\n",
       "    </tr>\n",
       "    <tr>\n",
       "      <th>2</th>\n",
       "      <td>MOP-hi</td>\n",
       "      <td>31042090-hi</td>\n",
       "      <td>MOP</td>\n",
       "      <td>31042090</td>\n",
       "      <td>0</td>\n",
       "    </tr>\n",
       "    <tr>\n",
       "      <th>3</th>\n",
       "      <td>MOP-low</td>\n",
       "      <td>31042090-low</td>\n",
       "      <td>MOP</td>\n",
       "      <td>31042090</td>\n",
       "      <td>1</td>\n",
       "    </tr>\n",
       "    <tr>\n",
       "      <th>0</th>\n",
       "      <td>MAP-hi</td>\n",
       "      <td>31054000-hi</td>\n",
       "      <td>MAP</td>\n",
       "      <td>31054000</td>\n",
       "      <td>0</td>\n",
       "    </tr>\n",
       "    <tr>\n",
       "      <th>1</th>\n",
       "      <td>MAP-low</td>\n",
       "      <td>31054000-low</td>\n",
       "      <td>MAP</td>\n",
       "      <td>31054000</td>\n",
       "      <td>1</td>\n",
       "    </tr>\n",
       "  </tbody>\n",
       "</table>\n",
       "</div>"
      ],
      "text/plain": [
       "     name_new    CO_NCM_new   name    CO_NCM  km\n",
       "12   UREIA-hi   31021010-hi  UREIA  31021010   0\n",
       "13  UREIA-low  31021010-low  UREIA  31021010   1\n",
       "10     SAM-hi   31022100-hi    SAM  31022100   0\n",
       "11    SAM-low  31022100-low    SAM  31022100   1\n",
       "8      NPK-hi   31052000-hi    NPK  31052000   0\n",
       "9     NPK-low  31052000-low    NPK  31052000   1\n",
       "7       NP-hi   31055900-hi     NP  31055900   1\n",
       "6      NP-low  31055900-low     NP  31055900   0\n",
       "5      NAM-hi   31023000-hi    NAM  31023000   1\n",
       "4     NAM-low  31023000-low    NAM  31023000   0\n",
       "2      MOP-hi   31042090-hi    MOP  31042090   0\n",
       "3     MOP-low  31042090-low    MOP  31042090   1\n",
       "0      MAP-hi   31054000-hi    MAP  31054000   0\n",
       "1     MAP-low  31054000-low    MAP  31054000   1"
      ]
     },
     "execution_count": 40,
     "metadata": {},
     "output_type": "execute_result"
    }
   ],
   "source": [
    "i_seg_tab=i_seg_tab.drop(columns=['mean','ad_name'])\n",
    "i_seg_tab"
   ]
  },
  {
   "cell_type": "code",
   "execution_count": 41,
   "id": "9779dc52-901a-4c4e-a3ef-38bdfcae3649",
   "metadata": {},
   "outputs": [],
   "source": [
    "i_seg=i_seg.merge(i_seg_tab)"
   ]
  },
  {
   "cell_type": "code",
   "execution_count": 42,
   "id": "cd913459-1c6f-46e2-b825-031fb4d4db38",
   "metadata": {},
   "outputs": [],
   "source": [
    "i_seg=i_seg.drop(columns=['CO_NCM','name']).rename(columns={'CO_NCM_new':'CO_NCM','name_new':'name'})"
   ]
  },
  {
   "cell_type": "code",
   "execution_count": 43,
   "id": "264020f9-ae34-4d6d-8b6a-6d5f78e23037",
   "metadata": {},
   "outputs": [],
   "source": [
    "imp_fert=pd.concat([i_seg,i_n_seg]).dropna(axis=1)"
   ]
  },
  {
   "cell_type": "code",
   "execution_count": 44,
   "id": "75388553-169b-4542-afce-c7218e3129a8",
   "metadata": {},
   "outputs": [],
   "source": [
    "imp_fert=imp_fert[~imp_fert.name.str.contains('low')]"
   ]
  },
  {
   "cell_type": "raw",
   "id": "0bf00fbe-03fe-4ae1-96e4-680400362065",
   "metadata": {},
   "source": [
    "sns.displot(data=imp_fert.sort_values(by='name'),x='KG_LIQUIDO',log_scale=True,col='name',col_wrap=5, bins=20)\n",
    "plt.show()"
   ]
  },
  {
   "cell_type": "code",
   "execution_count": 45,
   "id": "080cb97b-5c0a-4aa8-a498-7587620a61bd",
   "metadata": {},
   "outputs": [],
   "source": [
    "imp_fert_ureia=imp_fert[(imp_fert.name=='UREIA')&(imp_fert.KG_LIQUIDO>10**4)&(imp_fert.KG_LIQUIDO<10**8)]\n",
    "\n",
    "imp_fert_sam=imp_fert[(imp_fert.name=='SAM')&(imp_fert.KG_LIQUIDO>10**4)&(imp_fert.KG_LIQUIDO<10**8)]\n",
    "\n",
    "imp_fert_npk=imp_fert[(imp_fert.name=='NPK-hi')&(imp_fert.KG_LIQUIDO>10**5)&(imp_fert.KG_LIQUIDO<10**8)]\n",
    "\n",
    "imp_fert_np=imp_fert[(imp_fert.name=='NP-hi')&(imp_fert.KG_LIQUIDO>10**5)&(imp_fert.KG_LIQUIDO<10**8.1)]\n",
    "\n",
    "imp_fert_nam=imp_fert[(imp_fert.name=='NAM')&(imp_fert.KG_LIQUIDO>10**4)&(imp_fert.KG_LIQUIDO<10**8.1)]\n",
    "\n",
    "imp_fert_mop=imp_fert[(imp_fert.name=='MOP')&(imp_fert.KG_LIQUIDO>10**4)&(imp_fert.KG_LIQUIDO<10**8.1)]\n",
    "\n",
    "imp_fert_map=imp_fert[(imp_fert.name=='MAP-hi')&(imp_fert.KG_LIQUIDO>10**5)&(imp_fert.KG_LIQUIDO<10**8.1)]\n",
    "\n",
    "imp_fert=pd.concat([imp_fert_ureia,imp_fert_sam,imp_fert_npk,imp_fert_np,imp_fert_nam,imp_fert_mop,imp_fert_map])"
   ]
  },
  {
   "cell_type": "raw",
   "id": "e71ca537-8b0d-4d66-91c6-d4dcbe42242b",
   "metadata": {},
   "source": [
    "sns.displot(data=imp_fert.sort_values(by='name'),x='KG_LIQUIDO',log_scale=True,col='name',col_wrap=5, bins=20)\n",
    "plt.show()"
   ]
  },
  {
   "cell_type": "raw",
   "id": "4b07dbbf-51c4-4b9d-934e-2c5af9212fce",
   "metadata": {},
   "source": [
    "sns.displot(data=imp_fert.sort_values(by='name'),x='VL_FOB',log_scale=True,col='name',col_wrap=5, bins=20)\n",
    "plt.show()"
   ]
  },
  {
   "cell_type": "code",
   "execution_count": 46,
   "id": "f53aaaac-796a-47aa-9d25-4a2fb1185b5f",
   "metadata": {},
   "outputs": [],
   "source": [
    "# Salva a tabela importação\n",
    "imp_fert.to_csv('~/git/BD/temp/imp_fert2.csv',index=False)"
   ]
  },
  {
   "cell_type": "code",
   "execution_count": 47,
   "id": "edd13041-3ceb-4b52-8e22-e1452d04c7c4",
   "metadata": {},
   "outputs": [],
   "source": [
    "imp_fert2=imp_fert#.groupby(by=['CO_ANO','CO_MES','CO_NCM','name']).KG_LIQUIDO.sum().reset_index()"
   ]
  },
  {
   "cell_type": "raw",
   "id": "db640b4c-78b4-4efc-ab0e-9c422fdaac78",
   "metadata": {},
   "source": [
    "sns.displot(data=imp_fert2.sort_values(by='name'),x='KG_LIQUIDO',col='name',col_wrap=5,bins=20,log_scale=True ,facet_kws=dict(sharex=False, sharey=False))"
   ]
  },
  {
   "cell_type": "code",
   "execution_count": 48,
   "id": "b1f02729-ade3-4083-b7ac-1aef8d55e1f4",
   "metadata": {
    "scrolled": true
   },
   "outputs": [
    {
     "data": {
      "image/png": "[encoded data removed]",
      "text/plain": [
       "<Figure size 300x300 with 1 Axes>"
      ]
     },
     "metadata": {},
     "output_type": "display_data"
    },
    {
     "data": {
      "image/png": "[encoded data removed]",
      "text/plain": [
       "<Figure size 300x300 with 1 Axes>"
      ]
     },
     "metadata": {},
     "output_type": "display_data"
    },
    {
     "data": {
      "image/png": "[encoded data removed]",
      "text/plain": [
       "<Figure size 300x300 with 1 Axes>"
      ]
     },
     "metadata": {},
     "output_type": "display_data"
    }
   ],
   "source": [
    "for name in imp_fert2.name.unique():\n",
    "    imp_fert3=imp_fert2[imp_fert2.name==name]\n",
    "    sns.displot(data=imp_fert3,x='KG_LIQUIDO', height=3,bins=10).fig.suptitle(name)\n",
    "    plt.show()"
   ]
  },
  {
   "cell_type": "code",
   "execution_count": null,
   "id": "952a3ba9-7119-43b2-910c-c7637d6d6c5d",
   "metadata": {},
   "outputs": [],
   "source": []
  }
 ],
 "metadata": {
  "kernelspec": {
   "display_name": "Python 3 (ipykernel)",
   "language": "python",
   "name": "python3"
  },
  "language_info": {
   "codemirror_mode": {
    "name": "ipython",
    "version": 3
   },
   "file_extension": ".py",
   "mimetype": "text/x-python",
   "name": "python",
   "nbconvert_exporter": "python",
   "pygments_lexer": "ipython3",
   "version": "3.11.2"
  }
 },
 "nbformat": 4,
 "nbformat_minor": 5
}
