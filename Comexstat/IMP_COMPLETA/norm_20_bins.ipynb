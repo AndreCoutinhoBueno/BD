{
 "cells": [
  {
   "cell_type": "code",
   "execution_count": null,
   "id": "c8099de1-1e37-41c4-999f-671452159d89",
   "metadata": {},
   "outputs": [],
   "source": [
    "def norm_20_bins(ps):\n",
    "    \n",
    "    # Determina os bins conforme os valores de entreda\n",
    "    bins=np.linspace(ps.min(),ps.max(),20+1)\n",
    "    \n",
    "    def hist(ps):\n",
    "        q=pd.DataFrame()\n",
    "        for x in range(20):\n",
    "            if x!=19:\n",
    "                r=pd.DataFrame({'bin'+str(x):(ps>=bins[x])&(ps<bins[x+1])})\n",
    "            else:\n",
    "                r=pd.DataFrame({'bin'+str(x):(ps>=bins[x+1])&(ps<=bins[x+1])})\n",
    "                \n",
    "            q=pd.concat([q,r],axis=1)\n",
    "        \n",
    "        #pd.concat([i_bins,q_real],axis=1)\n",
    "        q_real=pd.DataFrame(q.sum(axis=0))\n",
    "        #q_real.columns='count'\n",
    "    \n",
    "        return q_real\n",
    "    \n",
    "    q_real=hist(ps)\n",
    "    \n",
    "    q_real=q_real.assign(perct=q_real[0]/q_real[0].sum())\n",
    "    \n",
    "    # Cria série normal\n",
    "    q_mean=q_real.perct.mean()\n",
    "    q_std=q_real.perct.std()\n",
    "    ps_norm=pd.Series(np.random. normal(q_mean,q_std, len(ps)))\n",
    "    \n",
    "    q_norm=hist(ps_norm)\n",
    "    \n",
    "    \n",
    "    q_norm=q_norm.assign(perct=q_norm/len(ps_norm))\n",
    "\n",
    "    q1=pd.concat([q_real,q_norm],axis=1)\n",
    "    q1.columns=['real','perct_real','norm','perct_norm']\n",
    "\n",
    "    print(q1)\n",
    "    \n",
    "    normalidade=round(1-q1.perct_norm.sum(),10)\n",
    "    \n",
    "    return normalidade"
   ]
  },
  {
   "cell_type": "code",
   "execution_count": null,
   "id": "017f5ff7-e213-49f7-ac25-79812706f668",
   "metadata": {},
   "outputs": [],
   "source": [
    "print('\\nFunção norm_20_bins() disponível.\\n')"
   ]
  },
  {
   "cell_type": "code",
   "execution_count": null,
   "id": "507f03dc-1915-4e8b-84d8-7bcc12e4368d",
   "metadata": {},
   "outputs": [],
   "source": []
  }
 ],
 "metadata": {
  "kernelspec": {
   "display_name": "Python 3 (ipykernel)",
   "language": "python",
   "name": "python3"
  },
  "language_info": {
   "codemirror_mode": {
    "name": "ipython",
    "version": 3
   },
   "file_extension": ".py",
   "mimetype": "text/x-python",
   "name": "python",
   "nbconvert_exporter": "python",
   "pygments_lexer": "ipython3",
   "version": "3.11.2"
  }
 },
 "nbformat": 4,
 "nbformat_minor": 5
}
