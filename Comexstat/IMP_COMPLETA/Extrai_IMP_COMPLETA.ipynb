{
 "cells": [
  {
   "cell_type": "code",
   "execution_count": 1,
   "id": "ce8c678b-1b4d-490b-87c3-669d8fb72bf9",
   "metadata": {},
   "outputs": [],
   "source": [
    "import numpy as np\n",
    "import pandas as pd\n",
    "import matplotlib.pyplot as plt\n",
    "import seaborn as sns"
   ]
  },
  {
   "cell_type": "code",
   "execution_count": 1,
   "id": "edbb7baf-a8df-403a-9561-416b1c3dbbc8",
   "metadata": {},
   "outputs": [
    {
     "name": "stdout",
     "output_type": "stream",
     "text": [
      "\n",
      "\n",
      "Fonte: Comexstat(http://comexstat.mdic.gov.br/pt/geral), portal para acesso gratuito às estatísticas de\n",
      "comércio exterior do Brasil, com os dados utilizados para construção da balança comercial brasileira, detalhados\n",
      "por NCM ou por Municípios do exportador/importador.\n",
      "\n",
      "\n"
     ]
    }
   ],
   "source": [
    "print('\\n\\nFonte: Comexstat(http://comexstat.mdic.gov.br/pt/geral), portal para acesso gratuito às estatísticas de\\n\\\n",
    "comércio exterior do Brasil, com os dados utilizados para construção da balança comercial brasileira, detalhados\\n\\\n",
    "por NCM ou por Municípios do exportador/importador.\\n\\n')"
   ]
  },
  {
   "cell_type": "raw",
   "id": "a6795879-a58c-4b4b-9c7e-53c5c279d5e1",
   "metadata": {},
   "source": [
    "O site informa que os dados estão disponíveis em arquivos compactados que contém arquivos CSV, utilizando como separador o ponto e vírgula (;), e com os nomes das colunas na primeira linha. \n",
    "\n",
    "Para esse projeto, o interesse esta sobre a base de dados denominada IMP_COMPLETA.zip, que contém histórico mensal das importações detalhadas por produto (código NCM), Unidade Federativa importadora, ano, mês, país de origem, quilograma líquido, valor dólar FOB (US$) e outras.\n",
    "\n",
    "Para aproveitamento completo dos arquivos de dados, será necessário baixar e utilizar as Tabelas Auxiliares contendo a \"Correlações de Códigos e Classificações\". \n",
    "\n",
    "O arquivo principal e as tabelas auxiliares foram baixadas e salvas localmente na pasta '~/git/BD/Comexstat/'.\n",
    "\n",
    "A classificação de produto mais abrangente disponível é a SH2 (Sistema Harmonizado) e no nome dela se buscará identificar palavras como \"fertilizantes\" ou \"adubo\"."
   ]
  },
  {
   "cell_type": "code",
   "execution_count": 2,
   "id": "d8d6558b-45cd-4700-abb6-818aab7dee32",
   "metadata": {},
   "outputs": [
    {
     "name": "stdout",
     "output_type": "stream",
     "text": [
      "<class 'pandas.core.frame.DataFrame'>\n",
      "RangeIndex: 6609 entries, 0 to 6608\n",
      "Data columns (total 16 columns):\n",
      " #   Column         Non-Null Count  Dtype \n",
      "---  ------         --------------  ----- \n",
      " 0   CO_SH6         6609 non-null   int64 \n",
      " 1   NO_SH6_POR     6609 non-null   object\n",
      " 2   NO_SH6_ESP     6609 non-null   object\n",
      " 3   NO_SH6_ING     6609 non-null   object\n",
      " 4   CO_SH4         6609 non-null   int64 \n",
      " 5   NO_SH4_POR     6609 non-null   object\n",
      " 6   NO_SH4_ESP     6609 non-null   object\n",
      " 7   NO_SH4_ING     6609 non-null   object\n",
      " 8   CO_SH2         6609 non-null   int64 \n",
      " 9   NO_SH2_POR     6609 non-null   object\n",
      " 10  NO_SH2_ESP     6609 non-null   object\n",
      " 11  NO_SH2_ING     6609 non-null   object\n",
      " 12  CO_NCM_SECROM  6609 non-null   object\n",
      " 13  NO_SEC_POR     6609 non-null   object\n",
      " 14  NO_SEC_ESP     6609 non-null   object\n",
      " 15  NO_SEC_ING     6609 non-null   object\n",
      "dtypes: int64(3), object(13)\n",
      "memory usage: 826.3+ KB\n"
     ]
    }
   ],
   "source": [
    "ncm_sh=pd.read_csv('~/git/BD/Comexstat/tab_complementares/NCM_SH.csv',encoding='Latin-1',sep=';')\n",
    "ncm_sh.info()"
   ]
  },
  {
   "cell_type": "markdown",
   "id": "aecb7c95-becc-4336-ac89-bc3a20936ac5",
   "metadata": {},
   "source": [
    "1-Reconhecer os códigos mais abrangentes dos produtos de interesse no sistema internacional SH:"
   ]
  },
  {
   "cell_type": "code",
   "execution_count": 3,
   "id": "d4b97620-8d24-47aa-9bca-646614ef6547",
   "metadata": {
    "scrolled": true
   },
   "outputs": [
    {
     "data": {
      "text/plain": [
       "array([31])"
      ]
     },
     "execution_count": 3,
     "metadata": {},
     "output_type": "execute_result"
    }
   ],
   "source": [
    "co_sh2_fert=ncm_sh[ncm_sh.NO_SH2_POR.str.lower().str.contains('fertilizante')]['CO_SH2'].unique()\n",
    "co_sh2_fert"
   ]
  },
  {
   "cell_type": "markdown",
   "id": "74784cd1-c54d-43e3-9086-4e509b314c4f",
   "metadata": {},
   "source": [
    "Identifica os códigos menos (SH6) abrangentes contidos no código SH2 de fertilizantes:"
   ]
  },
  {
   "cell_type": "code",
   "execution_count": 4,
   "id": "c20d9ba8-220c-4759-b73a-ae5afd06ed4e",
   "metadata": {},
   "outputs": [
    {
     "data": {
      "text/plain": [
       "array([310100, 310210, 310221, 310229, 310230, 310240, 310250, 310260,\n",
       "       310270, 310280, 310290, 310310, 310311, 310319, 310320, 310390,\n",
       "       310410, 310420, 310430, 310490, 310510, 310520, 310530, 310540,\n",
       "       310551, 310559, 310560, 310590])"
      ]
     },
     "execution_count": 4,
     "metadata": {},
     "output_type": "execute_result"
    }
   ],
   "source": [
    "ncm_sh_list=ncm_sh[ncm_sh.CO_SH2.isin(co_sh2_fert)]['CO_SH6'].unique()\n",
    "ncm_sh_list"
   ]
  },
  {
   "cell_type": "markdown",
   "id": "64b7bd7d-85c6-4750-acd6-31ae280ee409",
   "metadata": {},
   "source": [
    "Lê tabela com código comum ao Mercosul, que é o de maior especificação de produto."
   ]
  },
  {
   "cell_type": "code",
   "execution_count": 5,
   "id": "40059b6c-1334-47a8-97c2-df0bebea3212",
   "metadata": {},
   "outputs": [
    {
     "name": "stdout",
     "output_type": "stream",
     "text": [
      "<class 'pandas.core.frame.DataFrame'>\n",
      "RangeIndex: 13654 entries, 0 to 13653\n",
      "Data columns (total 14 columns):\n",
      " #   Column          Non-Null Count  Dtype  \n",
      "---  ------          --------------  -----  \n",
      " 0   CO_NCM          13654 non-null  int64  \n",
      " 1   CO_UNID         13654 non-null  int64  \n",
      " 2   CO_SH6          13654 non-null  int64  \n",
      " 3   CO_PPE          13361 non-null  float64\n",
      " 4   CO_PPI          13361 non-null  float64\n",
      " 5   CO_FAT_AGREG    13634 non-null  float64\n",
      " 6   CO_CUCI_ITEM    13654 non-null  object \n",
      " 7   CO_CGCE_N3      13654 non-null  int64  \n",
      " 8   CO_SIIT         13361 non-null  float64\n",
      " 9   CO_ISIC_CLASSE  13654 non-null  int64  \n",
      " 10  CO_EXP_SUBSET   13360 non-null  float64\n",
      " 11  NO_NCM_POR      13654 non-null  object \n",
      " 12  NO_NCM_ESP      13654 non-null  object \n",
      " 13  NO_NCM_ING      13654 non-null  object \n",
      "dtypes: float64(5), int64(5), object(4)\n",
      "memory usage: 1.5+ MB\n"
     ]
    }
   ],
   "source": [
    "ncm=pd.read_csv('~/git/BD/Comexstat/tab_complementares/NCM.csv',encoding='Latin-1',sep=';')\n",
    "ncm.info()"
   ]
  },
  {
   "cell_type": "markdown",
   "id": "ba581b4f-111c-49a3-91a6-1f6878adf24f",
   "metadata": {},
   "source": [
    "Na última tabela de NCM, localizamos os códigos NCM que se relacionam aos SH6 de fertilizantes."
   ]
  },
  {
   "cell_type": "code",
   "execution_count": 6,
   "id": "5a4f98ba-8836-480f-b874-03d86280da12",
   "metadata": {},
   "outputs": [
    {
     "data": {
      "text/plain": [
       "array([31053000, 31031100, 31031900, 31059011, 31059019, 31059090,\n",
       "       31031020, 31031030, 31032000, 31039011, 31053010, 31053090,\n",
       "       31054000, 31055100, 31055900, 31056000, 31010000, 31021010,\n",
       "       31021090, 31022100, 31022910, 31022990, 31023000, 31024000,\n",
       "       31025011, 31025019, 31025090, 31026000, 31027000, 31028000,\n",
       "       31029000, 31031010, 31039019, 31039090, 31041000, 31042010,\n",
       "       31042090, 31043010, 31043090, 31049010, 31049090, 31051000,\n",
       "       31052000])"
      ]
     },
     "execution_count": 6,
     "metadata": {},
     "output_type": "execute_result"
    }
   ],
   "source": [
    "list_ncm_fert=ncm[ncm.CO_SH6.isin(ncm_sh_list)].CO_NCM.unique()\n",
    "list_ncm_fert"
   ]
  },
  {
   "cell_type": "raw",
   "id": "ec327a28-c6eb-47df-9f8e-cfba5337efbb",
   "metadata": {},
   "source": [
    "Identificando o interior do arquivo IMP_COMPLETA.zip"
   ]
  },
  {
   "cell_type": "code",
   "execution_count": 7,
   "id": "c0cebd6d-4b9e-473e-8fac-a9243ac2ecdd",
   "metadata": {},
   "outputs": [
    {
     "name": "stdout",
     "output_type": "stream",
     "text": [
      "IMP_COMPLETA.csv\n"
     ]
    }
   ],
   "source": [
    "import zipfile\n",
    "\n",
    "# Caminho para o arquivo ZIP\n",
    "caminho_arquivo_zip = 'IMP_COMPLETA.zip'\n",
    "\n",
    "# Abre o arquivo ZIP em modo leitura\n",
    "with zipfile.ZipFile(caminho_arquivo_zip, 'r') as zip_ref:\n",
    "    # Lista o conteúdo do arquivo ZIP\n",
    "    for info in zip_ref.infolist():\n",
    "        print(info.filename)\n"
   ]
  },
  {
   "cell_type": "raw",
   "id": "d1a5988a-12a7-461d-a4a8-ec934fd4c54d",
   "metadata": {},
   "source": [
    "Identificando as primeiras linhas do arquivo IMP_COMPLETA.csv"
   ]
  },
  {
   "cell_type": "code",
   "execution_count": 8,
   "id": "2e850eed-3afd-454d-b299-45ba31f8df39",
   "metadata": {},
   "outputs": [
    {
     "data": {
      "text/html": [
       "<div>\n",
       "<style scoped>\n",
       "    .dataframe tbody tr th:only-of-type {\n",
       "        vertical-align: middle;\n",
       "    }\n",
       "\n",
       "    .dataframe tbody tr th {\n",
       "        vertical-align: top;\n",
       "    }\n",
       "\n",
       "    .dataframe thead th {\n",
       "        text-align: right;\n",
       "    }\n",
       "</style>\n",
       "<table border=\"1\" class=\"dataframe\">\n",
       "  <thead>\n",
       "    <tr style=\"text-align: right;\">\n",
       "      <th></th>\n",
       "      <th>CO_ANO</th>\n",
       "      <th>CO_MES</th>\n",
       "      <th>CO_NCM</th>\n",
       "      <th>CO_UNID</th>\n",
       "      <th>CO_PAIS</th>\n",
       "      <th>SG_UF_NCM</th>\n",
       "      <th>CO_VIA</th>\n",
       "      <th>CO_URF</th>\n",
       "      <th>QT_ESTAT</th>\n",
       "      <th>KG_LIQUIDO</th>\n",
       "      <th>VL_FOB</th>\n",
       "      <th>VL_FRETE</th>\n",
       "      <th>VL_SEGURO</th>\n",
       "    </tr>\n",
       "  </thead>\n",
       "  <tbody>\n",
       "    <tr>\n",
       "      <th>0</th>\n",
       "      <td>1997</td>\n",
       "      <td>9</td>\n",
       "      <td>29251990</td>\n",
       "      <td>10</td>\n",
       "      <td>87</td>\n",
       "      <td>SP</td>\n",
       "      <td>1</td>\n",
       "      <td>817800</td>\n",
       "      <td>200</td>\n",
       "      <td>200</td>\n",
       "      <td>4888</td>\n",
       "      <td>180</td>\n",
       "      <td>24</td>\n",
       "    </tr>\n",
       "    <tr>\n",
       "      <th>1</th>\n",
       "      <td>1997</td>\n",
       "      <td>8</td>\n",
       "      <td>85049010</td>\n",
       "      <td>10</td>\n",
       "      <td>399</td>\n",
       "      <td>SP</td>\n",
       "      <td>4</td>\n",
       "      <td>817600</td>\n",
       "      <td>4891</td>\n",
       "      <td>84</td>\n",
       "      <td>30116</td>\n",
       "      <td>409</td>\n",
       "      <td>93</td>\n",
       "    </tr>\n",
       "    <tr>\n",
       "      <th>2</th>\n",
       "      <td>1997</td>\n",
       "      <td>8</td>\n",
       "      <td>54023300</td>\n",
       "      <td>10</td>\n",
       "      <td>63</td>\n",
       "      <td>SP</td>\n",
       "      <td>7</td>\n",
       "      <td>1010900</td>\n",
       "      <td>143834</td>\n",
       "      <td>143834</td>\n",
       "      <td>402427</td>\n",
       "      <td>10121</td>\n",
       "      <td>266</td>\n",
       "    </tr>\n",
       "    <tr>\n",
       "      <th>3</th>\n",
       "      <td>1997</td>\n",
       "      <td>3</td>\n",
       "      <td>38121000</td>\n",
       "      <td>10</td>\n",
       "      <td>249</td>\n",
       "      <td>SP</td>\n",
       "      <td>1</td>\n",
       "      <td>817800</td>\n",
       "      <td>9434</td>\n",
       "      <td>9172</td>\n",
       "      <td>61190</td>\n",
       "      <td>3011</td>\n",
       "      <td>163</td>\n",
       "    </tr>\n",
       "    <tr>\n",
       "      <th>4</th>\n",
       "      <td>1997</td>\n",
       "      <td>10</td>\n",
       "      <td>73209000</td>\n",
       "      <td>10</td>\n",
       "      <td>399</td>\n",
       "      <td>SP</td>\n",
       "      <td>4</td>\n",
       "      <td>817600</td>\n",
       "      <td>222510</td>\n",
       "      <td>49</td>\n",
       "      <td>3638</td>\n",
       "      <td>456</td>\n",
       "      <td>18</td>\n",
       "    </tr>\n",
       "  </tbody>\n",
       "</table>\n",
       "</div>"
      ],
      "text/plain": [
       "   CO_ANO  CO_MES    CO_NCM  CO_UNID  CO_PAIS SG_UF_NCM  CO_VIA   CO_URF  \\\n",
       "0    1997       9  29251990       10       87        SP       1   817800   \n",
       "1    1997       8  85049010       10      399        SP       4   817600   \n",
       "2    1997       8  54023300       10       63        SP       7  1010900   \n",
       "3    1997       3  38121000       10      249        SP       1   817800   \n",
       "4    1997      10  73209000       10      399        SP       4   817600   \n",
       "\n",
       "   QT_ESTAT  KG_LIQUIDO  VL_FOB  VL_FRETE  VL_SEGURO  \n",
       "0       200         200    4888       180         24  \n",
       "1      4891          84   30116       409         93  \n",
       "2    143834      143834  402427     10121        266  \n",
       "3      9434        9172   61190      3011        163  \n",
       "4    222510          49    3638       456         18  "
      ]
     },
     "metadata": {},
     "output_type": "display_data"
    }
   ],
   "source": [
    "import zipfile\n",
    "import pandas as pd\n",
    "import os\n",
    "\n",
    "# Caminho para o arquivo ZIP\n",
    "caminho_arquivo_zip = '~/git/BD/Comexstat/IMP_COMPLETA/IMP_COMPLETA.zip'\n",
    "\n",
    "# Expandir o caminho com ~ para o diretório raiz do usuário\n",
    "caminho_completo = os.path.expanduser(caminho_arquivo_zip)\n",
    "\n",
    "# Número de linhas a serem lidas\n",
    "num_linhas = 5  # Defina o número de linhas que deseja exibir\n",
    "\n",
    "# Abrir o arquivo ZIP em modo leitura\n",
    "with zipfile.ZipFile(caminho_completo, 'r') as zip_ref:\n",
    "    # Extrair o arquivo CSV temporariamente\n",
    "    with zip_ref.open('IMP_COMPLETA.csv') as csv_file:\n",
    "        # Ler as primeiras linhas do arquivo CSV\n",
    "        df = pd.read_csv(csv_file, nrows=num_linhas, encoding='Latin-1',sep=';')\n",
    "        # Exibir as primeiras linhas em formato de tabela\n",
    "        display(df)\n"
   ]
  },
  {
   "cell_type": "code",
   "execution_count": 9,
   "id": "bc2add2c-4fac-4b20-acc0-fc997ea2301b",
   "metadata": {},
   "outputs": [
    {
     "data": {
      "text/html": [
       "<div>\n",
       "<style scoped>\n",
       "    .dataframe tbody tr th:only-of-type {\n",
       "        vertical-align: middle;\n",
       "    }\n",
       "\n",
       "    .dataframe tbody tr th {\n",
       "        vertical-align: top;\n",
       "    }\n",
       "\n",
       "    .dataframe thead th {\n",
       "        text-align: right;\n",
       "    }\n",
       "</style>\n",
       "<table border=\"1\" class=\"dataframe\">\n",
       "  <thead>\n",
       "    <tr style=\"text-align: right;\">\n",
       "      <th></th>\n",
       "      <th>CO_ANO</th>\n",
       "      <th>CO_MES</th>\n",
       "      <th>CO_NCM</th>\n",
       "      <th>CO_UNID</th>\n",
       "      <th>CO_PAIS</th>\n",
       "      <th>SG_UF_NCM</th>\n",
       "      <th>CO_VIA</th>\n",
       "      <th>CO_URF</th>\n",
       "      <th>QT_ESTAT</th>\n",
       "      <th>KG_LIQUIDO</th>\n",
       "      <th>VL_FOB</th>\n",
       "      <th>VL_FRETE</th>\n",
       "      <th>VL_SEGURO</th>\n",
       "    </tr>\n",
       "  </thead>\n",
       "  <tbody>\n",
       "    <tr>\n",
       "      <th>266</th>\n",
       "      <td>1997</td>\n",
       "      <td>12</td>\n",
       "      <td>31042090</td>\n",
       "      <td>10</td>\n",
       "      <td>23</td>\n",
       "      <td>RS</td>\n",
       "      <td>1</td>\n",
       "      <td>1015400</td>\n",
       "      <td>7130535</td>\n",
       "      <td>7130535</td>\n",
       "      <td>922261</td>\n",
       "      <td>85567</td>\n",
       "      <td>1935</td>\n",
       "    </tr>\n",
       "    <tr>\n",
       "      <th>874</th>\n",
       "      <td>1997</td>\n",
       "      <td>3</td>\n",
       "      <td>31027000</td>\n",
       "      <td>10</td>\n",
       "      <td>249</td>\n",
       "      <td>SP</td>\n",
       "      <td>1</td>\n",
       "      <td>817800</td>\n",
       "      <td>12</td>\n",
       "      <td>6</td>\n",
       "      <td>103</td>\n",
       "      <td>4</td>\n",
       "      <td>0</td>\n",
       "    </tr>\n",
       "    <tr>\n",
       "      <th>1095</th>\n",
       "      <td>1997</td>\n",
       "      <td>11</td>\n",
       "      <td>31042090</td>\n",
       "      <td>10</td>\n",
       "      <td>249</td>\n",
       "      <td>SP</td>\n",
       "      <td>4</td>\n",
       "      <td>817600</td>\n",
       "      <td>12</td>\n",
       "      <td>1</td>\n",
       "      <td>1197</td>\n",
       "      <td>35</td>\n",
       "      <td>6</td>\n",
       "    </tr>\n",
       "    <tr>\n",
       "      <th>1543</th>\n",
       "      <td>1997</td>\n",
       "      <td>12</td>\n",
       "      <td>31021010</td>\n",
       "      <td>10</td>\n",
       "      <td>831</td>\n",
       "      <td>SC</td>\n",
       "      <td>1</td>\n",
       "      <td>920151</td>\n",
       "      <td>4507463</td>\n",
       "      <td>4507463</td>\n",
       "      <td>549976</td>\n",
       "      <td>54024</td>\n",
       "      <td>0</td>\n",
       "    </tr>\n",
       "    <tr>\n",
       "      <th>2273</th>\n",
       "      <td>1997</td>\n",
       "      <td>3</td>\n",
       "      <td>31022100</td>\n",
       "      <td>10</td>\n",
       "      <td>23</td>\n",
       "      <td>RJ</td>\n",
       "      <td>1</td>\n",
       "      <td>717600</td>\n",
       "      <td>144</td>\n",
       "      <td>7200</td>\n",
       "      <td>15582</td>\n",
       "      <td>681</td>\n",
       "      <td>0</td>\n",
       "    </tr>\n",
       "    <tr>\n",
       "      <th>...</th>\n",
       "      <td>...</td>\n",
       "      <td>...</td>\n",
       "      <td>...</td>\n",
       "      <td>...</td>\n",
       "      <td>...</td>\n",
       "      <td>...</td>\n",
       "      <td>...</td>\n",
       "      <td>...</td>\n",
       "      <td>...</td>\n",
       "      <td>...</td>\n",
       "      <td>...</td>\n",
       "      <td>...</td>\n",
       "      <td>...</td>\n",
       "    </tr>\n",
       "    <tr>\n",
       "      <th>40528384</th>\n",
       "      <td>2024</td>\n",
       "      <td>1</td>\n",
       "      <td>31022100</td>\n",
       "      <td>10</td>\n",
       "      <td>160</td>\n",
       "      <td>SC</td>\n",
       "      <td>1</td>\n",
       "      <td>917800</td>\n",
       "      <td>1000000</td>\n",
       "      <td>1000000</td>\n",
       "      <td>148730</td>\n",
       "      <td>17530</td>\n",
       "      <td>52</td>\n",
       "    </tr>\n",
       "    <tr>\n",
       "      <th>40528504</th>\n",
       "      <td>2024</td>\n",
       "      <td>1</td>\n",
       "      <td>31054000</td>\n",
       "      <td>10</td>\n",
       "      <td>160</td>\n",
       "      <td>PR</td>\n",
       "      <td>1</td>\n",
       "      <td>917800</td>\n",
       "      <td>235200</td>\n",
       "      <td>235200</td>\n",
       "      <td>177990</td>\n",
       "      <td>21624</td>\n",
       "      <td>121</td>\n",
       "    </tr>\n",
       "    <tr>\n",
       "      <th>40528525</th>\n",
       "      <td>2024</td>\n",
       "      <td>1</td>\n",
       "      <td>31051000</td>\n",
       "      <td>10</td>\n",
       "      <td>160</td>\n",
       "      <td>SP</td>\n",
       "      <td>1</td>\n",
       "      <td>817800</td>\n",
       "      <td>13500</td>\n",
       "      <td>13500</td>\n",
       "      <td>60365</td>\n",
       "      <td>1297</td>\n",
       "      <td>0</td>\n",
       "    </tr>\n",
       "    <tr>\n",
       "      <th>40529356</th>\n",
       "      <td>2024</td>\n",
       "      <td>1</td>\n",
       "      <td>31059090</td>\n",
       "      <td>10</td>\n",
       "      <td>23</td>\n",
       "      <td>SP</td>\n",
       "      <td>1</td>\n",
       "      <td>917800</td>\n",
       "      <td>15750</td>\n",
       "      <td>15750</td>\n",
       "      <td>39511</td>\n",
       "      <td>627</td>\n",
       "      <td>324</td>\n",
       "    </tr>\n",
       "    <tr>\n",
       "      <th>40529430</th>\n",
       "      <td>2024</td>\n",
       "      <td>1</td>\n",
       "      <td>31059090</td>\n",
       "      <td>10</td>\n",
       "      <td>245</td>\n",
       "      <td>RS</td>\n",
       "      <td>7</td>\n",
       "      <td>1010252</td>\n",
       "      <td>12750</td>\n",
       "      <td>12750</td>\n",
       "      <td>63486</td>\n",
       "      <td>5135</td>\n",
       "      <td>0</td>\n",
       "    </tr>\n",
       "  </tbody>\n",
       "</table>\n",
       "<p>100430 rows × 13 columns</p>\n",
       "</div>"
      ],
      "text/plain": [
       "          CO_ANO  CO_MES    CO_NCM  CO_UNID  CO_PAIS SG_UF_NCM  CO_VIA  \\\n",
       "266         1997      12  31042090       10       23        RS       1   \n",
       "874         1997       3  31027000       10      249        SP       1   \n",
       "1095        1997      11  31042090       10      249        SP       4   \n",
       "1543        1997      12  31021010       10      831        SC       1   \n",
       "2273        1997       3  31022100       10       23        RJ       1   \n",
       "...          ...     ...       ...      ...      ...       ...     ...   \n",
       "40528384    2024       1  31022100       10      160        SC       1   \n",
       "40528504    2024       1  31054000       10      160        PR       1   \n",
       "40528525    2024       1  31051000       10      160        SP       1   \n",
       "40529356    2024       1  31059090       10       23        SP       1   \n",
       "40529430    2024       1  31059090       10      245        RS       7   \n",
       "\n",
       "           CO_URF  QT_ESTAT  KG_LIQUIDO  VL_FOB  VL_FRETE  VL_SEGURO  \n",
       "266       1015400   7130535     7130535  922261     85567       1935  \n",
       "874        817800        12           6     103         4          0  \n",
       "1095       817600        12           1    1197        35          6  \n",
       "1543       920151   4507463     4507463  549976     54024          0  \n",
       "2273       717600       144        7200   15582       681          0  \n",
       "...           ...       ...         ...     ...       ...        ...  \n",
       "40528384   917800   1000000     1000000  148730     17530         52  \n",
       "40528504   917800    235200      235200  177990     21624        121  \n",
       "40528525   817800     13500       13500   60365      1297          0  \n",
       "40529356   917800     15750       15750   39511       627        324  \n",
       "40529430  1010252     12750       12750   63486      5135          0  \n",
       "\n",
       "[100430 rows x 13 columns]"
      ]
     },
     "metadata": {},
     "output_type": "display_data"
    }
   ],
   "source": [
    "import zipfile\n",
    "import pandas as pd\n",
    "\n",
    "# Caminho para o arquivo ZIP\n",
    "caminho_arquivo_zip = 'IMP_COMPLETA.zip'\n",
    "\n",
    "# Função para filtrar as linhas do DataFrame com base na coluna 'CO_NCM'\n",
    "def filtrar_chunk(chunk):\n",
    "    return chunk[chunk['CO_NCM'].isin(list_ncm_fert)]\n",
    "\n",
    "# Tamanho do chunk\n",
    "chunk_size = 10000  # Defina o tamanho do chunk conforme necessário\n",
    "\n",
    "imp_fert=pd.DataFrame()\n",
    "\n",
    "# Abrir o arquivo ZIP em modo leitura\n",
    "with zipfile.ZipFile(caminho_arquivo_zip, 'r') as zip_ref:\n",
    "    # Extrair o arquivo CSV temporariamente\n",
    "    with zip_ref.open('IMP_COMPLETA.csv') as csv_file:\n",
    "        # Ler o arquivo CSV em chunks\n",
    "        chunks = pd.read_csv(csv_file, chunksize=chunk_size, encoding='Latin-1', sep=';')\n",
    "        \n",
    "        # Iterar sobre os chunks\n",
    "        for chunk in chunks:\n",
    "            # Filtrar o chunk\n",
    "            chunk_filtrado = filtrar_chunk(chunk)\n",
    "            \n",
    "            # Exibir o chunk filtrado (ou realizar outra ação, como processamento adicional)\n",
    "            imp_fert=pd.concat([imp_fert,chunk_filtrado])\n",
    "\n",
    "\n",
    "display(imp_fert)"
   ]
  },
  {
   "cell_type": "code",
   "execution_count": 13,
   "id": "de0bf7a0-0cdc-4680-ba4b-efadd6eb164a",
   "metadata": {},
   "outputs": [
    {
     "data": {
      "text/plain": [
       "'/home/andre301267/git/BD/Comexstat/IMP_COMPLETA'"
      ]
     },
     "execution_count": 13,
     "metadata": {},
     "output_type": "execute_result"
    }
   ],
   "source": [
    "import os\n",
    "os.getcwd()"
   ]
  },
  {
   "cell_type": "code",
   "execution_count": 14,
   "id": "4365be19-9cd1-4ca1-8a6f-c147725884ba",
   "metadata": {},
   "outputs": [],
   "source": [
    "imp_fert.to_csv('~/git/BD/temp/imp_fert1.csv', index=False)"
   ]
  }
 ],
 "metadata": {
  "kernelspec": {
   "display_name": "Python 3 (ipykernel)",
   "language": "python",
   "name": "python3"
  },
  "language_info": {
   "codemirror_mode": {
    "name": "ipython",
    "version": 3
   },
   "file_extension": ".py",
   "mimetype": "text/x-python",
   "name": "python",
   "nbconvert_exporter": "python",
   "pygments_lexer": "ipython3",
   "version": "3.11.2"
  }
 },
 "nbformat": 4,
 "nbformat_minor": 5
}
