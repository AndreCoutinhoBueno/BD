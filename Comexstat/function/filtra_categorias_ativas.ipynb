{
 "cells": [
  {
   "cell_type": "code",
   "execution_count": null,
   "id": "8aa9a3bd-cff9-43ba-8423-876973bf7908",
   "metadata": {},
   "outputs": [],
   "source": [
    "def filtra_categorias_ativas(imp_fert):\n",
    "    #imp_fert['date']=pd.to_datetime(imp_fert.CO_ANO.astype(str)+'/'+imp_fert.CO_MES.astype(str)+'/1')\n",
    "    fim=imp_fert.date.max()\n",
    "    ini=pd.date_range(end=fim,periods=12*y_active,freq='MS')[0]\n",
    "    filtra_atividade=imp_fert[imp_fert.date>=ini][imp_fert.select_dtypes(include='category').columns.tolist()].drop_duplicates()\n",
    "    imp_fert=filtra_atividade.merge(imp_fert)\n",
    "    return imp_fert"
   ]
  }
 ],
 "metadata": {
  "kernelspec": {
   "display_name": "Python 3 (ipykernel)",
   "language": "python",
   "name": "python3"
  },
  "language_info": {
   "codemirror_mode": {
    "name": "ipython",
    "version": 3
   },
   "file_extension": ".py",
   "mimetype": "text/x-python",
   "name": "python",
   "nbconvert_exporter": "python",
   "pygments_lexer": "ipython3",
   "version": "3.11.2"
  }
 },
 "nbformat": 4,
 "nbformat_minor": 5
}
