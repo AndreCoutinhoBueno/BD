{
 "cells": [
  {
   "cell_type": "code",
   "execution_count": 1,
   "id": "590cb1f3-18d9-4d85-b80d-2e0fdb04fe5d",
   "metadata": {},
   "outputs": [],
   "source": [
    "import time\n",
    "ini=time.time()\n",
    "\n",
    "import datetime\n",
    "\n",
    "import warnings\n",
    "warnings.filterwarnings(\"ignore\")\n",
    "\n",
    "import pandas as pd\n",
    "import numpy as np\n",
    "import seaborn as sns\n",
    "\n",
    "from sklearn.ensemble import RandomForestClassifier as RFC_\n",
    "from sklearn.ensemble import RandomForestRegressor as RFR_\n",
    "from sklearn import metrics\n",
    "\n",
    "comex_ncm=c=pd.read_csv('~/git/BD/temp/imp_fert_quanti.csv')\n",
    "\n",
    "# Filtra top\n",
    "top_nick=c.groupby('nick').KG_LIQUIDO.sum().sort_values().index[-2:]\n",
    "top_uf=c.groupby('SG_UF_NCM').KG_LIQUIDO.sum().sort_values().index[-2:]\n",
    "top_pais=c.groupby('CO_PAIS').KG_LIQUIDO.sum().sort_values().index[-2:]\n",
    "top_urf=c.groupby('CO_URF').KG_LIQUIDO.sum().sort_values().index[-2:]\n",
    "c=c[(c.nick.isin(top_nick))&(c.SG_UF_NCM.isin(top_uf))&(c.CO_PAIS.isin(top_pais))&(c.CO_URF.isin(top_urf))]"
   ]
  },
  {
   "cell_type": "code",
   "execution_count": 2,
   "id": "a1668a7b-11a1-48a8-aafa-cc929227983e",
   "metadata": {},
   "outputs": [
    {
     "name": "stdout",
     "output_type": "stream",
     "text": [
      "preve_comex_ncm(comex_ncm, target_cols=['oc','KG_LIQUIDO'], cat_cols=['CO_MES','nick','SG_UF_NCM','CO_PAIS','CO_URF'],md_c=None,md_r=1,comp_min_anos=5)\n"
     ]
    }
   ],
   "source": [
    "md_c=15\n",
    "md_r=1\n",
    "l=20 # anos\n",
    "comex_ncm['date']=pd.to_datetime(comex_ncm.CO_ANO.astype(str)+'/'+comex_ncm.CO_MES.astype(str)+'/1')\n",
    "%run 'func_prev_comex_ncm.ipynb'"
   ]
  },
  {
   "cell_type": "code",
   "execution_count": 3,
   "id": "d7e94522-095b-4b3c-83e8-0c0a0c1c7115",
   "metadata": {},
   "outputs": [],
   "source": [
    "q=pd.DataFrame()\n",
    "for md_c in [15,25]:\n",
    "    for md_r in [1,5]:\n",
    "        comex_ncm_t=comex_ncm.copy()\n",
    "        while (comex_ncm_t.date.max()-pd.DateOffset(years=l))>=comex_ncm_t.date.min():\n",
    "            \n",
    "            comex_ncm_t2=comex_ncm_t[comex_ncm_t.date>(comex_ncm_t.date.max()-pd.DateOffset(years=l))]\n",
    "            \n",
    "            test_pred=preve_comex_ncm(comex_ncm_t2,\n",
    "                                      target_cols=['oc','KG_LIQUIDO'],\n",
    "                                      cat_cols=['CO_MES','nick','SG_UF_NCM','CO_PAIS','CO_URF'],\n",
    "                                      md_c=md_c,\n",
    "                                      md_r=md_r,\n",
    "                                      comp_min_anos=5)\n",
    "            \n",
    "            if len(test_pred)>0:\n",
    "                test_pred=test_pred.assign(ano='max')\n",
    "                \n",
    "                test_pred.loc[test_pred.CO_ANO==test_pred.CO_ANO.min(),'ano']='min'\n",
    "                \n",
    "                test_pred=test_pred.assign(md_c=md_c).assign(md_r=md_r)\n",
    "                \n",
    "                q=pd.concat([q,test_pred]).drop_duplicates()\n",
    "                \n",
    "                comex_ncm_t=comex_ncm_t[comex_ncm_t.date<comex_ncm_t.date.max()]"
   ]
  },
  {
   "cell_type": "code",
   "execution_count": 4,
   "id": "20cb3a5a-4711-4803-9f96-eda8fde89ef9",
   "metadata": {},
   "outputs": [],
   "source": [
    "q.to_csv('q.csv',index=False)"
   ]
  },
  {
   "cell_type": "code",
   "execution_count": 16,
   "id": "a7028769-1dc7-4848-b6dc-66f67deccaff",
   "metadata": {},
   "outputs": [
    {
     "name": "stdout",
     "output_type": "stream",
     "text": [
      "Duração: 2.6  minutos.\n"
     ]
    }
   ],
   "source": [
    "fim=time.time()\n",
    "print('Duração:',round((fim-ini)/60,1),' minutos.')"
   ]
  }
 ],
 "metadata": {
  "kernelspec": {
   "display_name": "Python 3 (ipykernel)",
   "language": "python",
   "name": "python3"
  },
  "language_info": {
   "codemirror_mode": {
    "name": "ipython",
    "version": 3
   },
   "file_extension": ".py",
   "mimetype": "text/x-python",
   "name": "python",
   "nbconvert_exporter": "python",
   "pygments_lexer": "ipython3",
   "version": "3.11.2"
  }
 },
 "nbformat": 4,
 "nbformat_minor": 5
}
