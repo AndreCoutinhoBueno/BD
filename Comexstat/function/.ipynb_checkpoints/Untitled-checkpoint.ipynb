{
 "cells": [
  {
   "cell_type": "code",
   "execution_count": 2,
   "id": "4db08659-444f-4310-ae11-ed16e4d718de",
   "metadata": {},
   "outputs": [],
   "source": [
    "import pandas as pd"
   ]
  },
  {
   "cell_type": "code",
   "execution_count": 10,
   "id": "b3d5d80e-073b-48cb-8cc6-78e5e390f1ce",
   "metadata": {},
   "outputs": [],
   "source": [
    "i=pd.read_csv('~/git/BD/temp/imp_fert_quanti.csv')"
   ]
  },
  {
   "cell_type": "code",
   "execution_count": 11,
   "id": "83abfa94-97e1-4649-8ca9-74b81f87f459",
   "metadata": {},
   "outputs": [],
   "source": [
    "i['date']=pd.to_datetime(i.CO_ANO.astype(str)+'/'+i.CO_MES.astype(str)+'/1')"
   ]
  },
  {
   "cell_type": "code",
   "execution_count": 12,
   "id": "9fe60d61-a36b-4eae-8a6a-4c3a91d56749",
   "metadata": {},
   "outputs": [],
   "source": [
    "date_pred=i.date.max()"
   ]
  },
  {
   "cell_type": "code",
   "execution_count": 13,
   "id": "72145fb6-4548-4a42-9deb-54827a47c472",
   "metadata": {},
   "outputs": [],
   "source": [
    "comp_max=10"
   ]
  },
  {
   "cell_type": "code",
   "execution_count": 17,
   "id": "bb5ccd49-2374-43cf-91a3-95295299fb22",
   "metadata": {},
   "outputs": [],
   "source": [
    "data_inicio=pd.to_datetime(str(date_pred.year-comp_max)+'/'+str(date_pred.month)+'/1')"
   ]
  },
  {
   "cell_type": "code",
   "execution_count": 18,
   "id": "5c665b90-1e3b-4368-8d19-7f09bf105859",
   "metadata": {},
   "outputs": [
    {
     "data": {
      "text/html": [
       "<div>\n",
       "<style scoped>\n",
       "    .dataframe tbody tr th:only-of-type {\n",
       "        vertical-align: middle;\n",
       "    }\n",
       "\n",
       "    .dataframe tbody tr th {\n",
       "        vertical-align: top;\n",
       "    }\n",
       "\n",
       "    .dataframe thead th {\n",
       "        text-align: right;\n",
       "    }\n",
       "</style>\n",
       "<table border=\"1\" class=\"dataframe\">\n",
       "  <thead>\n",
       "    <tr style=\"text-align: right;\">\n",
       "      <th></th>\n",
       "      <th>CO_ANO</th>\n",
       "      <th>CO_MES</th>\n",
       "      <th>nick</th>\n",
       "      <th>SG_UF_NCM</th>\n",
       "      <th>CO_PAIS</th>\n",
       "      <th>CO_URF</th>\n",
       "      <th>KG_LIQUIDO</th>\n",
       "      <th>date</th>\n",
       "    </tr>\n",
       "  </thead>\n",
       "  <tbody>\n",
       "    <tr>\n",
       "      <th>19917</th>\n",
       "      <td>2014</td>\n",
       "      <td>4</td>\n",
       "      <td>MAP_k</td>\n",
       "      <td>BA</td>\n",
       "      <td>160</td>\n",
       "      <td>517600</td>\n",
       "      <td>336000.0</td>\n",
       "      <td>2014-04-01</td>\n",
       "    </tr>\n",
       "    <tr>\n",
       "      <th>19918</th>\n",
       "      <td>2014</td>\n",
       "      <td>4</td>\n",
       "      <td>MAP_k</td>\n",
       "      <td>BA</td>\n",
       "      <td>160</td>\n",
       "      <td>917800</td>\n",
       "      <td>336000.0</td>\n",
       "      <td>2014-04-01</td>\n",
       "    </tr>\n",
       "    <tr>\n",
       "      <th>19919</th>\n",
       "      <td>2014</td>\n",
       "      <td>4</td>\n",
       "      <td>MAP_k</td>\n",
       "      <td>BA</td>\n",
       "      <td>249</td>\n",
       "      <td>517602</td>\n",
       "      <td>4976018.0</td>\n",
       "      <td>2014-04-01</td>\n",
       "    </tr>\n",
       "    <tr>\n",
       "      <th>19920</th>\n",
       "      <td>2014</td>\n",
       "      <td>4</td>\n",
       "      <td>MAP_k</td>\n",
       "      <td>GO</td>\n",
       "      <td>249</td>\n",
       "      <td>917800</td>\n",
       "      <td>1525321.0</td>\n",
       "      <td>2014-04-01</td>\n",
       "    </tr>\n",
       "    <tr>\n",
       "      <th>19921</th>\n",
       "      <td>2014</td>\n",
       "      <td>4</td>\n",
       "      <td>MAP_k</td>\n",
       "      <td>GO</td>\n",
       "      <td>676</td>\n",
       "      <td>817800</td>\n",
       "      <td>6600000.0</td>\n",
       "      <td>2014-04-01</td>\n",
       "    </tr>\n",
       "    <tr>\n",
       "      <th>...</th>\n",
       "      <td>...</td>\n",
       "      <td>...</td>\n",
       "      <td>...</td>\n",
       "      <td>...</td>\n",
       "      <td>...</td>\n",
       "      <td>...</td>\n",
       "      <td>...</td>\n",
       "      <td>...</td>\n",
       "    </tr>\n",
       "    <tr>\n",
       "      <th>39714</th>\n",
       "      <td>2024</td>\n",
       "      <td>4</td>\n",
       "      <td>UREIA_k</td>\n",
       "      <td>ZN</td>\n",
       "      <td>999</td>\n",
       "      <td>147600</td>\n",
       "      <td>8485000.0</td>\n",
       "      <td>2024-04-01</td>\n",
       "    </tr>\n",
       "    <tr>\n",
       "      <th>39715</th>\n",
       "      <td>2024</td>\n",
       "      <td>4</td>\n",
       "      <td>UREIA_k</td>\n",
       "      <td>ZN</td>\n",
       "      <td>999</td>\n",
       "      <td>210200</td>\n",
       "      <td>19751993.0</td>\n",
       "      <td>2024-04-01</td>\n",
       "    </tr>\n",
       "    <tr>\n",
       "      <th>39716</th>\n",
       "      <td>2024</td>\n",
       "      <td>4</td>\n",
       "      <td>UREIA_k</td>\n",
       "      <td>ZN</td>\n",
       "      <td>999</td>\n",
       "      <td>517800</td>\n",
       "      <td>3000000.0</td>\n",
       "      <td>2024-04-01</td>\n",
       "    </tr>\n",
       "    <tr>\n",
       "      <th>39717</th>\n",
       "      <td>2024</td>\n",
       "      <td>4</td>\n",
       "      <td>UREIA_k</td>\n",
       "      <td>ZN</td>\n",
       "      <td>999</td>\n",
       "      <td>727600</td>\n",
       "      <td>1500000.0</td>\n",
       "      <td>2024-04-01</td>\n",
       "    </tr>\n",
       "    <tr>\n",
       "      <th>39718</th>\n",
       "      <td>2024</td>\n",
       "      <td>4</td>\n",
       "      <td>UREIA_k</td>\n",
       "      <td>ZN</td>\n",
       "      <td>999</td>\n",
       "      <td>927700</td>\n",
       "      <td>24599966.0</td>\n",
       "      <td>2024-04-01</td>\n",
       "    </tr>\n",
       "  </tbody>\n",
       "</table>\n",
       "<p>19802 rows × 8 columns</p>\n",
       "</div>"
      ],
      "text/plain": [
       "       CO_ANO  CO_MES     nick SG_UF_NCM  CO_PAIS  CO_URF  KG_LIQUIDO  \\\n",
       "19917    2014       4    MAP_k        BA      160  517600    336000.0   \n",
       "19918    2014       4    MAP_k        BA      160  917800    336000.0   \n",
       "19919    2014       4    MAP_k        BA      249  517602   4976018.0   \n",
       "19920    2014       4    MAP_k        GO      249  917800   1525321.0   \n",
       "19921    2014       4    MAP_k        GO      676  817800   6600000.0   \n",
       "...       ...     ...      ...       ...      ...     ...         ...   \n",
       "39714    2024       4  UREIA_k        ZN      999  147600   8485000.0   \n",
       "39715    2024       4  UREIA_k        ZN      999  210200  19751993.0   \n",
       "39716    2024       4  UREIA_k        ZN      999  517800   3000000.0   \n",
       "39717    2024       4  UREIA_k        ZN      999  727600   1500000.0   \n",
       "39718    2024       4  UREIA_k        ZN      999  927700  24599966.0   \n",
       "\n",
       "            date  \n",
       "19917 2014-04-01  \n",
       "19918 2014-04-01  \n",
       "19919 2014-04-01  \n",
       "19920 2014-04-01  \n",
       "19921 2014-04-01  \n",
       "...          ...  \n",
       "39714 2024-04-01  \n",
       "39715 2024-04-01  \n",
       "39716 2024-04-01  \n",
       "39717 2024-04-01  \n",
       "39718 2024-04-01  \n",
       "\n",
       "[19802 rows x 8 columns]"
      ]
     },
     "execution_count": 18,
     "metadata": {},
     "output_type": "execute_result"
    }
   ],
   "source": [
    "i[i.date>=data_inicio]"
   ]
  },
  {
   "cell_type": "code",
   "execution_count": null,
   "id": "3a080e06-1820-4c7b-a733-30a2527d1f02",
   "metadata": {},
   "outputs": [],
   "source": []
  },
  {
   "cell_type": "code",
   "execution_count": 15,
   "id": "bb08cf82-bd3f-429b-8199-cb1863a95a14",
   "metadata": {},
   "outputs": [
    {
     "data": {
      "text/plain": [
       "True"
      ]
     },
     "execution_count": 15,
     "metadata": {},
     "output_type": "execute_result"
    }
   ],
   "source": [
    "pd.to_datetime(str(date_pred.year-comp_min)+'/'+str(date_pred.month)+'/1') >= i.date.min()"
   ]
  },
  {
   "cell_type": "code",
   "execution_count": 9,
   "id": "a271b626-0617-49b2-a33e-780fbbd2a6b9",
   "metadata": {},
   "outputs": [
    {
     "data": {
      "text/plain": [
       "Timestamp('2014-04-01 00:00:00')"
      ]
     },
     "execution_count": 9,
     "metadata": {},
     "output_type": "execute_result"
    }
   ],
   "source": [
    "max=pd.to_datetime(str(i.date.max().year-10)+'/'+str(i.date.max().month)+'/1')\n",
    "max"
   ]
  },
  {
   "cell_type": "code",
   "execution_count": null,
   "id": "c61b2411-371d-4d50-a875-f54aee1c14cf",
   "metadata": {},
   "outputs": [],
   "source": [
    "min=i.date.min()"
   ]
  },
  {
   "cell_type": "code",
   "execution_count": 13,
   "id": "77babb0a-28a7-4606-ade7-e2dc5e6bce73",
   "metadata": {},
   "outputs": [],
   "source": [
    "d=max-min"
   ]
  },
  {
   "cell_type": "code",
   "execution_count": 25,
   "id": "c8f35844-7f64-483b-b464-bc6751993f18",
   "metadata": {},
   "outputs": [
    {
     "data": {
      "text/plain": [
       "27"
      ]
     },
     "execution_count": 25,
     "metadata": {},
     "output_type": "execute_result"
    }
   ],
   "source": [
    "round(d.days/365)"
   ]
  },
  {
   "cell_type": "code",
   "execution_count": null,
   "id": "84693d28-4bfd-4719-b169-61bac8f6ae8c",
   "metadata": {},
   "outputs": [],
   "source": []
  }
 ],
 "metadata": {
  "kernelspec": {
   "display_name": "Python 3 (ipykernel)",
   "language": "python",
   "name": "python3"
  },
  "language_info": {
   "codemirror_mode": {
    "name": "ipython",
    "version": 3
   },
   "file_extension": ".py",
   "mimetype": "text/x-python",
   "name": "python",
   "nbconvert_exporter": "python",
   "pygments_lexer": "ipython3",
   "version": "3.11.2"
  }
 },
 "nbformat": 4,
 "nbformat_minor": 5
}
