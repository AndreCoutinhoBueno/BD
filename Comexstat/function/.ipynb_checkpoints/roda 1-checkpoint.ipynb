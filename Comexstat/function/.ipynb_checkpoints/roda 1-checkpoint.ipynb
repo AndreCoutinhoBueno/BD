{
 "cells": [
  {
   "cell_type": "code",
   "execution_count": 1,
   "id": "be3aa3b7-02e3-43ac-ad6a-a9e9372a5808",
   "metadata": {},
   "outputs": [],
   "source": [
    "import time\n",
    "ini_tempo=time.time()\n",
    "\n",
    "import datetime\n",
    "\n",
    "import warnings\n",
    "warnings.filterwarnings(\"ignore\")\n",
    "\n",
    "import pandas as pd\n",
    "import numpy as np\n",
    "import seaborn as sns\n",
    "\n",
    "from sklearn.ensemble import RandomForestClassifier as RFC_\n",
    "from sklearn.ensemble import RandomForestRegressor as RFR_\n",
    "from sklearn import metrics\n",
    "\n",
    "c=pd.read_csv('~/git/BD/temp/imp_fert_quanti.csv')"
   ]
  },
  {
   "cell_type": "code",
   "execution_count": 2,
   "id": "ce897483-d119-477a-8d95-6668f8b314f2",
   "metadata": {},
   "outputs": [],
   "source": [
    "# Filtra top\n",
    "top_nick=c.groupby('nick').KG_LIQUIDO.sum().sort_values().index[-2:]\n",
    "top_uf=c.groupby('SG_UF_NCM').KG_LIQUIDO.sum().sort_values().index[-2:]\n",
    "top_pais=c.groupby('CO_PAIS').KG_LIQUIDO.sum().sort_values().index[-2:]\n",
    "top_urf=c.groupby('CO_URF').KG_LIQUIDO.sum().sort_values().index[-2:]\n",
    "c=c[(c.nick.isin(top_nick))&(c.SG_UF_NCM.isin(top_uf))&(c.CO_PAIS.isin(top_pais))&(c.CO_URF.isin(top_urf))]"
   ]
  },
  {
   "cell_type": "code",
   "execution_count": 3,
   "id": "85940052-9d12-4683-be43-7a49f516e140",
   "metadata": {},
   "outputs": [],
   "source": [
    "# Define parâmetros\n",
    "rept=1\n",
    "quanti_col=['oc','KG_LIQUIDO']\n",
    "cat_cols=['CO_MES','nick','SG_UF_NCM','CO_PAIS','CO_URF']\n",
    "md_c=None\n",
    "md_r=1\n",
    "comp_min_anos=10\n",
    "comp_max_anos=None"
   ]
  },
  {
   "cell_type": "code",
   "execution_count": 4,
   "id": "145d8cbf-f2a3-47aa-bffc-4e50abe6807e",
   "metadata": {},
   "outputs": [],
   "source": [
    "# Verifica duração mínima\n",
    "c['date']=pd.to_datetime(c.CO_ANO.astype(str)+'/'+c.CO_MES.astype(str)+'/1')\n",
    "pd.to_datetime(str(c.date.max().year-comp_min_anos)+'/'+str(c.date.max().month)+'/1')>c.date.min()\n",
    "c.date=c.date.astype(int)\n",
    "c=c.sort_values(by=['CO_ANO','CO_MES'])"
   ]
  },
  {
   "cell_type": "code",
   "execution_count": 5,
   "id": "bb7fac7c-47ef-4b25-b5a4-78da2152f043",
   "metadata": {},
   "outputs": [],
   "source": [
    "# Salva datas de início e fim\n",
    "pred_max=c.date.max()\n",
    "pred_min=c.date.min()"
   ]
  },
  {
   "cell_type": "markdown",
   "id": "df13d900-6232-48d2-b8c2-aa327a4f63a2",
   "metadata": {},
   "source": [
    "# Classificação"
   ]
  },
  {
   "cell_type": "code",
   "execution_count": 6,
   "id": "a7e3c8dc-5501-4a36-8f6c-49cc1da66f15",
   "metadata": {},
   "outputs": [],
   "source": [
    "# Sparse Matrix #########################\n",
    "# Matriz 1\n",
    "anos=pd.DataFrame({'CO_ANO':np.arange(c.CO_ANO.min(),c.CO_ANO.max()+1),'key':0})\n",
    "# Matriz 2\n",
    "cat=c[cat_cols].drop_duplicates().assign(key=0)\n",
    "# Multiplica\n",
    "c_c=anos.merge(cat,how='outer').drop(columns='key')\n",
    "c_c=c_c.merge(c,how='outer').fillna(0)\n",
    "# Apara as datas\n",
    "c_c.date=pd.to_datetime(c_c.CO_ANO.astype(str)+'/'+c_c.CO_MES.astype(str)+'/1').astype(int)\n",
    "c_c=c_c[(c_c.date>=pred_min)&(c_c.date<=pred_max)]"
   ]
  },
  {
   "cell_type": "code",
   "execution_count": 7,
   "id": "ef08439e-adbc-4dd8-a2ea-0925b6682c45",
   "metadata": {},
   "outputs": [],
   "source": [
    "# Marca ocorrências\n",
    "c_c=c_c.assign(oc=0)\n",
    "c_c.loc[c_c[quanti_col[1]]>0,'oc']=1"
   ]
  },
  {
   "cell_type": "code",
   "execution_count": 8,
   "id": "f371a8e4-ca54-45c3-942a-cd06ccac6216",
   "metadata": {},
   "outputs": [],
   "source": [
    "# Codifica categorias\n",
    "c_c[cat_cols]=c_c[cat_cols].astype('category')\n",
    "c_c=c_c.drop(columns=['CO_ANO','KG_LIQUIDO'])\n",
    "c_c=pd.get_dummies(c_c, prefix_sep='~')"
   ]
  },
  {
   "cell_type": "code",
   "execution_count": 9,
   "id": "32484bb5-be35-449b-aa49-1f178af9defd",
   "metadata": {},
   "outputs": [],
   "source": [
    "def train_test_max_test_min(df, pred_max, pred_min):\n",
    "    '''Identifica train, test_max, test_min'''\n",
    "    train=df[~df.date.isin([pred_max,pred_min])]\n",
    "    # Identifica test na data mínima e máxima\n",
    "    test_max=df[df.date==pred_max]\n",
    "    test_min=df[df.date==pred_min]\n",
    "\n",
    "    return [train,test_max,test_min]"
   ]
  },
  {
   "cell_type": "code",
   "execution_count": 10,
   "id": "1bd992d8-5ab8-44c8-814b-ef286b1aedd6",
   "metadata": {},
   "outputs": [],
   "source": [
    "[train_c,test_max_c,test_min_c]=train_test_max_test_min(c_c,pred_max, pred_min)"
   ]
  },
  {
   "cell_type": "code",
   "execution_count": 11,
   "id": "25f63c17-c915-4fcd-8568-ffffe83174f1",
   "metadata": {},
   "outputs": [],
   "source": [
    "def Xy(train,test_max, test_min, target_col):\n",
    "    # Identifica X e y\n",
    "    X_train=train.drop(columns=[target_col])\n",
    "    y_train=train[[target_col]]\n",
    "    X_test_max=test_max.drop(columns=[target_col])\n",
    "    y_test_max=test_max[[target_col]]\n",
    "    X_test_min=test_min.drop(columns=[target_col])\n",
    "    y_test_min=test_min[[target_col]]\n",
    "\n",
    "    return [X_train,y_train,X_test_max,y_test_max,X_test_min,y_test_min]"
   ]
  },
  {
   "cell_type": "code",
   "execution_count": 12,
   "id": "69f845f5-2ecd-4e8f-97a6-346fe184595f",
   "metadata": {},
   "outputs": [],
   "source": [
    "[X_train_c,y_train_c,X_test_max_c,y_test_max_c,X_test_min_c,y_test_min_c]=Xy(train_c,test_max_c,test_min_c,quanti_col[0])"
   ]
  },
  {
   "cell_type": "code",
   "execution_count": 13,
   "id": "9b0eb584-5cde-4ceb-9b16-b54a1af6080b",
   "metadata": {},
   "outputs": [],
   "source": [
    "def fit_pred(RF,md,X_train,y_train,X_test_max,y_test_max,X_test_min,y_test_min, quanti_col_number):\n",
    "\n",
    "    if (len(X_test_max)>0)|(len(X_test_min)>0):\n",
    "        \n",
    "        # Fit\n",
    "        RF=RF(max_depth=md)\n",
    "        RF.fit(X_train,y_train)\n",
    "\n",
    "        if len(X_test_max)>0:\n",
    "            # Prediz\n",
    "            X_test_max.insert(0,(str(quanti_col[quanti_col_number])+'_pred'),RF.predict(X_test_max))\n",
    "            X_test_max.insert(0,str(quanti_col[quanti_col_number]),y_test_max)\n",
    "            test_pred_max=X_test_max\n",
    "        else:\n",
    "            test_pred_max=X_test_max[(X_test_max.date>0)&(X_test_max.date<0)]\n",
    "        \n",
    "        if len(X_test_min)>0:\n",
    "            # Prediz\n",
    "            X_test_min.insert(0,str(quanti_col[quanti_col_number])+'_pred',RF.predict(X_test_min))\n",
    "            X_test_min.insert(0,str(quanti_col[quanti_col_number]),y_test_min)\n",
    "            test_pred_min=X_test_min\n",
    "        else:\n",
    "            test_pred_min=X_test_min[(X_test_min.date>0)&(X_test_min.date<0)]\n",
    "            \n",
    "            \n",
    "\n",
    "    else:\n",
    "        \n",
    "        test_pred_min=test_pred_max=X_test_min[(X_test_min.date>0)&(X_test_min.date<0)]\n",
    "\n",
    "    return [test_pred_max,test_pred_min]"
   ]
  },
  {
   "cell_type": "code",
   "execution_count": 14,
   "id": "2755ff0a-265e-4e14-83e6-18df945f6b74",
   "metadata": {},
   "outputs": [],
   "source": [
    "list_test_pred_c=fit_pred(RFC_,md_c,X_train_c,y_train_c,X_test_max_c,y_test_max_c,X_test_min_c,y_test_min_c,0)"
   ]
  },
  {
   "cell_type": "code",
   "execution_count": 15,
   "id": "0f6814cb-19bd-4532-aba5-81680e3c1c97",
   "metadata": {},
   "outputs": [],
   "source": [
    "def decod(list_test_pred):\n",
    "\n",
    "    for l in range(2):\n",
    "        list_test_pred[l]=pd.concat([\n",
    "            list_test_pred[l].select_dtypes(exclude='bool'),\n",
    "            pd.from_dummies(list_test_pred[l].select_dtypes(include='bool'),sep='~')\n",
    "        ],axis=1)\n",
    "        list_test_pred[l].insert(0,'CO_ANO',list_test_pred[l].date.astype('datetime64[ns]').dt.year)\n",
    "        list_test_pred[l]=list_test_pred[l].drop(columns='date')\n",
    "    \n",
    "    return list_test_pred"
   ]
  },
  {
   "cell_type": "code",
   "execution_count": 16,
   "id": "c427432b-fd3f-46cc-8146-aee270b18b7b",
   "metadata": {
    "scrolled": true
   },
   "outputs": [],
   "source": [
    "list_test_pred_c=decod(list_test_pred_c)"
   ]
  },
  {
   "cell_type": "code",
   "execution_count": 17,
   "id": "c445187f-edbc-461f-8b46-b53a7830bbbe",
   "metadata": {},
   "outputs": [],
   "source": [
    "test_pred_max_c,test_pred_min_c=list_test_pred_c"
   ]
  },
  {
   "cell_type": "markdown",
   "id": "18f7efa2-8d8a-4937-965b-87328deb10c6",
   "metadata": {},
   "source": [
    "# Regressão"
   ]
  },
  {
   "cell_type": "code",
   "execution_count": 18,
   "id": "c6dde829-cffa-4021-961d-172277b714e7",
   "metadata": {},
   "outputs": [],
   "source": [
    "c[cat_cols]=c[cat_cols].astype(str)"
   ]
  },
  {
   "cell_type": "code",
   "execution_count": 19,
   "id": "3a6a354e-7001-4db7-8dde-5b20967c30a0",
   "metadata": {},
   "outputs": [],
   "source": [
    "test_pred_max_oc_pred=test_pred_max_c[(test_pred_max_c.oc==1)&(test_pred_max_c.oc_pred==1)]"
   ]
  },
  {
   "cell_type": "code",
   "execution_count": 20,
   "id": "d1a24ca5-6a05-47ae-91d6-6fc7e1c96ba8",
   "metadata": {},
   "outputs": [],
   "source": [
    "test_pred_min_oc_pred=test_pred_min_c[(test_pred_min_c.oc==1)&(test_pred_min_c.oc_pred==1)]"
   ]
  },
  {
   "cell_type": "code",
   "execution_count": 21,
   "id": "6969613a-d5dc-4658-934b-2a0e0d872145",
   "metadata": {},
   "outputs": [],
   "source": [
    "filtro_r=pd.concat([test_pred_max_oc_pred[cat_cols],test_pred_min_oc_pred[cat_cols]]).drop_duplicates()"
   ]
  },
  {
   "cell_type": "code",
   "execution_count": 22,
   "id": "40429f69-9704-462e-aa20-bed567262e99",
   "metadata": {},
   "outputs": [],
   "source": [
    "c_r=c.merge(filtro_r)"
   ]
  },
  {
   "cell_type": "code",
   "execution_count": 23,
   "id": "1a7def6d-26f7-43ca-b94e-8f78704c55da",
   "metadata": {},
   "outputs": [],
   "source": [
    "# Codifica categorias\n",
    "c_r[cat_cols]=c_r[cat_cols].astype('category')\n",
    "c_r=c_r.drop(columns=['CO_ANO'])\n",
    "c_r=pd.get_dummies(c_r, prefix_sep='~')"
   ]
  },
  {
   "cell_type": "code",
   "execution_count": 24,
   "id": "5d41843f-32cb-4dd4-b9ed-7533c4f90844",
   "metadata": {},
   "outputs": [],
   "source": [
    "[train_r,test_max_r,test_min_r]=train_test_max_test_min(c_r,pred_max,pred_min)"
   ]
  },
  {
   "cell_type": "code",
   "execution_count": 25,
   "id": "19b375af-6b79-4707-838f-331f0e8cca56",
   "metadata": {},
   "outputs": [],
   "source": [
    "[X_train_r,y_train_r,X_test_max_r,y_test_max_r,X_test_min_r,y_test_min_r]=Xy(train_r,test_max_r,test_min_r,quanti_col[1])"
   ]
  },
  {
   "cell_type": "code",
   "execution_count": 26,
   "id": "2cf1f833-d2dc-453a-8283-14841f42759c",
   "metadata": {},
   "outputs": [],
   "source": [
    "if len(X_train_r)>0:\n",
    "    list_test_pred_r=fit_pred(RFR_,md_r,X_train_r,y_train_r,X_test_max_r,y_test_max_r,X_test_min_r,y_test_min_r,1)\n",
    "else:\n",
    "    list_test_pred_r=pd.DataFrame()"
   ]
  },
  {
   "cell_type": "code",
   "execution_count": 27,
   "id": "a1529ec9-5871-4b29-bcb8-12ef36217ab2",
   "metadata": {},
   "outputs": [],
   "source": [
    "if len(list_test_pred_r)>1:\n",
    "    list_test_pred_r=decod(list_test_pred_r)"
   ]
  },
  {
   "cell_type": "code",
   "execution_count": 28,
   "id": "c53c48cf-285a-4c03-8577-2d8a0d1d6813",
   "metadata": {},
   "outputs": [],
   "source": [
    "test_pred_max_r,test_pred_min_r=list_test_pred_r"
   ]
  },
  {
   "cell_type": "code",
   "execution_count": 29,
   "id": "5f19c7b9-8feb-4440-a11f-3ba787719b13",
   "metadata": {},
   "outputs": [],
   "source": [
    "test_pred_max=test_pred_max_c.merge(test_pred_max_r,how='outer')"
   ]
  },
  {
   "cell_type": "code",
   "execution_count": 30,
   "id": "7affeffa-9316-4195-ac89-e85615772b35",
   "metadata": {},
   "outputs": [],
   "source": [
    "test_pred_min=test_pred_min_c.merge(test_pred_min_r,how='outer')"
   ]
  },
  {
   "cell_type": "code",
   "execution_count": 31,
   "id": "827f35c8-6c41-42fb-9a59-804d9e0a40af",
   "metadata": {},
   "outputs": [],
   "source": [
    "test_pred=pd.concat([test_pred_max,test_pred_min])\n",
    "test_pred.to_csv('~/git/BD/temp/comex_ncm_test_pred.csv',index=False)"
   ]
  }
 ],
 "metadata": {
  "kernelspec": {
   "display_name": "Python 3 (ipykernel)",
   "language": "python",
   "name": "python3"
  },
  "language_info": {
   "codemirror_mode": {
    "name": "ipython",
    "version": 3
   },
   "file_extension": ".py",
   "mimetype": "text/x-python",
   "name": "python",
   "nbconvert_exporter": "python",
   "pygments_lexer": "ipython3",
   "version": "3.11.2"
  }
 },
 "nbformat": 4,
 "nbformat_minor": 5
}
