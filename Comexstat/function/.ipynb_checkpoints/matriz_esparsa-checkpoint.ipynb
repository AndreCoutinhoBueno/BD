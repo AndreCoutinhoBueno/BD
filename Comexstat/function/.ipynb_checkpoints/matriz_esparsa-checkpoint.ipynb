{
 "cells": [
  {
   "cell_type": "code",
   "execution_count": null,
   "id": "ba5bcd20-188c-467e-acf7-4926e194d846",
   "metadata": {},
   "outputs": [],
   "source": [
    "import numpy as np\n",
    "import pandas as pd"
   ]
  },
  {
   "cell_type": "code",
   "execution_count": null,
   "id": "f0289bb3-9f8a-4e0d-b76d-c9f540f46e98",
   "metadata": {},
   "outputs": [],
   "source": [
    "def matriz_esparsa(imp_fert, quanti_col):\n",
    "    '''Transforma matriz densa em esparsa.\n",
    "    Exige que as colunas categoricas entejam como tipo \"category\"'''\n",
    "    # salva datas de início e fim\n",
    "    ini=imp_fert.date.min()\n",
    "    fim=imp_fert.date.max()\n",
    "    # Cria conjunto de anos\n",
    "    anos_df=pd.DataFrame({'CO_ANO':np.arange(ini.year,fim.year+1)}).assign(key=0)\n",
    "    \n",
    "    # Funde anos e categorias (inclusive mês) criando nova tabela ms\n",
    "    # Note que aqui conjunto de carac que não ocorra em determinado mês não é criado com zero quant. para dar velocidade de processamento\n",
    "    imp_fert_ms=anos_df.merge(\\\n",
    "        imp_fert[imp_fert.select_dtypes('category').columns.tolist()].assign(key=0).drop_duplicates(),how='outer'\n",
    "    ).drop(columns='key')\n",
    "        \n",
    "    # liminta matriz a datas reais existentes\n",
    "    imp_fert_ms['date']=pd.to_datetime(imp_fert_ms.CO_ANO.astype(str)+'/'+imp_fert_ms.CO_MES.astype(str)+'/1')\n",
    "    imp_fert_ms=imp_fert_ms[(imp_fert_ms.date>=ini)&(imp_fert_ms.date<=fim)]\n",
    "    # funde ms e imp_fert\n",
    "    imp_fert_out=imp_fert_ms.merge(imp_fert,how='outer')\n",
    "    imp_fert_out[quanti_col]=imp_fert_out[[quanti_col]].fillna(0)\n",
    "\n",
    "    # Diferencia ocorrências reais de não ocorrência\n",
    "    imp_fert_out=imp_fert_out.assign(oc=0)\n",
    "    imp_fert_out.loc[imp_fert_out.KG_LIQUIDO>0,'oc']=1\n",
    "\n",
    "    return imp_fert_out"
   ]
  }
 ],
 "metadata": {
  "kernelspec": {
   "display_name": "Python 3 (ipykernel)",
   "language": "python",
   "name": "python3"
  },
  "language_info": {
   "codemirror_mode": {
    "name": "ipython",
    "version": 3
   },
   "file_extension": ".py",
   "mimetype": "text/x-python",
   "name": "python",
   "nbconvert_exporter": "python",
   "pygments_lexer": "ipython3",
   "version": "3.11.2"
  }
 },
 "nbformat": 4,
 "nbformat_minor": 5
}
