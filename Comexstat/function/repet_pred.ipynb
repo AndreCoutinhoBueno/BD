{
 "cells": [
  {
   "cell_type": "code",
   "execution_count": 1,
   "id": "c23089bc-54b4-4fc9-bbf1-193449195e26",
   "metadata": {},
   "outputs": [
    {
     "ename": "AttributeError",
     "evalue": "'DataFrame' object has no attribute 'oc'",
     "output_type": "error",
     "traceback": [
      "\u001b[0;31m---------------------------------------------------------------------------\u001b[0m",
      "\u001b[0;31mAttributeError\u001b[0m                            Traceback (most recent call last)",
      "\u001b[0;32m/tmp/ipykernel_27158/1234189549.py\u001b[0m in \u001b[0;36m?\u001b[0;34m()\u001b[0m\n\u001b[1;32m      1\u001b[0m \u001b[0;31m# Regressão ##########################################################################################\u001b[0m\u001b[0;34m\u001b[0m\u001b[0;34m\u001b[0m\u001b[0m\n\u001b[1;32m      2\u001b[0m \u001b[0;34m\u001b[0m\u001b[0m\n\u001b[1;32m      3\u001b[0m \u001b[0;31m# Filtra deixando passar somente ocorridos e previstos de ocorrer\u001b[0m\u001b[0;34m\u001b[0m\u001b[0;34m\u001b[0m\u001b[0m\n\u001b[1;32m      4\u001b[0m \u001b[0mtrain_r\u001b[0m\u001b[0;34m=\u001b[0m\u001b[0mtrain_c\u001b[0m\u001b[0;34m[\u001b[0m\u001b[0mtrain_c\u001b[0m\u001b[0;34m.\u001b[0m\u001b[0moc\u001b[0m\u001b[0;34m==\u001b[0m\u001b[0;36m1\u001b[0m\u001b[0;34m]\u001b[0m\u001b[0;34m\u001b[0m\u001b[0;34m\u001b[0m\u001b[0m\n\u001b[0;32m----> 5\u001b[0;31m \u001b[0mtest_max_r\u001b[0m\u001b[0;34m=\u001b[0m\u001b[0mtest_pred_max_c\u001b[0m\u001b[0;34m[\u001b[0m\u001b[0;34m(\u001b[0m\u001b[0mtest_pred_max_c\u001b[0m\u001b[0;34m.\u001b[0m\u001b[0moc\u001b[0m\u001b[0;34m==\u001b[0m\u001b[0;36m1\u001b[0m\u001b[0;34m)\u001b[0m\u001b[0;34m&\u001b[0m\u001b[0;34m(\u001b[0m\u001b[0mtest_pred_max_c\u001b[0m\u001b[0;34m.\u001b[0m\u001b[0moc_pred\u001b[0m\u001b[0;34m==\u001b[0m\u001b[0;36m1\u001b[0m\u001b[0;34m)\u001b[0m\u001b[0;34m]\u001b[0m\u001b[0;34m\u001b[0m\u001b[0;34m\u001b[0m\u001b[0m\n\u001b[0m\u001b[1;32m      6\u001b[0m \u001b[0mtest_min_r\u001b[0m\u001b[0;34m=\u001b[0m\u001b[0mtest_pred_min_c\u001b[0m\u001b[0;34m[\u001b[0m\u001b[0;34m(\u001b[0m\u001b[0mtest_pred_min_c\u001b[0m\u001b[0;34m.\u001b[0m\u001b[0moc\u001b[0m\u001b[0;34m==\u001b[0m\u001b[0;36m1\u001b[0m\u001b[0;34m)\u001b[0m\u001b[0;34m&\u001b[0m\u001b[0;34m(\u001b[0m\u001b[0mtest_pred_min_c\u001b[0m\u001b[0;34m.\u001b[0m\u001b[0moc_pred\u001b[0m\u001b[0;34m==\u001b[0m\u001b[0;36m1\u001b[0m\u001b[0;34m)\u001b[0m\u001b[0;34m]\u001b[0m\u001b[0;34m\u001b[0m\u001b[0;34m\u001b[0m\u001b[0m\n",
      "\u001b[0;32m~/git/ambiente1/lib/python3.11/site-packages/pandas/core/generic.py\u001b[0m in \u001b[0;36m?\u001b[0;34m(self, name)\u001b[0m\n\u001b[1;32m   6295\u001b[0m             \u001b[0;32mand\u001b[0m \u001b[0mname\u001b[0m \u001b[0;32mnot\u001b[0m \u001b[0;32min\u001b[0m \u001b[0mself\u001b[0m\u001b[0;34m.\u001b[0m\u001b[0m_accessors\u001b[0m\u001b[0;34m\u001b[0m\u001b[0;34m\u001b[0m\u001b[0m\n\u001b[1;32m   6296\u001b[0m             \u001b[0;32mand\u001b[0m \u001b[0mself\u001b[0m\u001b[0;34m.\u001b[0m\u001b[0m_info_axis\u001b[0m\u001b[0;34m.\u001b[0m\u001b[0m_can_hold_identifiers_and_holds_name\u001b[0m\u001b[0;34m(\u001b[0m\u001b[0mname\u001b[0m\u001b[0;34m)\u001b[0m\u001b[0;34m\u001b[0m\u001b[0;34m\u001b[0m\u001b[0m\n\u001b[1;32m   6297\u001b[0m         ):\n\u001b[1;32m   6298\u001b[0m             \u001b[0;32mreturn\u001b[0m \u001b[0mself\u001b[0m\u001b[0;34m[\u001b[0m\u001b[0mname\u001b[0m\u001b[0;34m]\u001b[0m\u001b[0;34m\u001b[0m\u001b[0;34m\u001b[0m\u001b[0m\n\u001b[0;32m-> 6299\u001b[0;31m         \u001b[0;32mreturn\u001b[0m \u001b[0mobject\u001b[0m\u001b[0;34m.\u001b[0m\u001b[0m__getattribute__\u001b[0m\u001b[0;34m(\u001b[0m\u001b[0mself\u001b[0m\u001b[0;34m,\u001b[0m \u001b[0mname\u001b[0m\u001b[0;34m)\u001b[0m\u001b[0;34m\u001b[0m\u001b[0;34m\u001b[0m\u001b[0m\n\u001b[0m",
      "\u001b[0;31mAttributeError\u001b[0m: 'DataFrame' object has no attribute 'oc'"
     ]
    },
    {
     "ename": "AttributeError",
     "evalue": "'DataFrame' object has no attribute 'oc'",
     "output_type": "error",
     "traceback": [
      "\u001b[0;31m---------------------------------------------------------------------------\u001b[0m",
      "\u001b[0;31mAttributeError\u001b[0m                            Traceback (most recent call last)",
      "\u001b[0;32m/tmp/ipykernel_27158/2151206561.py\u001b[0m in \u001b[0;36m?\u001b[0;34m()\u001b[0m\n\u001b[1;32m      8\u001b[0m \u001b[0;34m\u001b[0m\u001b[0m\n\u001b[1;32m      9\u001b[0m \u001b[0;32mimport\u001b[0m \u001b[0mpandas\u001b[0m \u001b[0;32mas\u001b[0m \u001b[0mpd\u001b[0m\u001b[0;34m\u001b[0m\u001b[0;34m\u001b[0m\u001b[0m\n\u001b[1;32m     10\u001b[0m \u001b[0;32mimport\u001b[0m \u001b[0mnumpy\u001b[0m \u001b[0;32mas\u001b[0m \u001b[0mnp\u001b[0m\u001b[0;34m\u001b[0m\u001b[0;34m\u001b[0m\u001b[0m\n\u001b[1;32m     11\u001b[0m \u001b[0;34m\u001b[0m\u001b[0m\n\u001b[0;32m---> 12\u001b[0;31m \u001b[0mget_ipython\u001b[0m\u001b[0;34m(\u001b[0m\u001b[0;34m)\u001b[0m\u001b[0;34m.\u001b[0m\u001b[0mrun_line_magic\u001b[0m\u001b[0;34m(\u001b[0m\u001b[0;34m'run'\u001b[0m\u001b[0;34m,\u001b[0m \u001b[0;34m\"'prev_comex_ncm.ipynb'\"\u001b[0m\u001b[0;34m)\u001b[0m\u001b[0;34m\u001b[0m\u001b[0;34m\u001b[0m\u001b[0m\n\u001b[0m\u001b[1;32m     13\u001b[0m \u001b[0;34m\u001b[0m\u001b[0m\n\u001b[1;32m     14\u001b[0m \u001b[0;31m# Define parametros\u001b[0m\u001b[0;34m\u001b[0m\u001b[0;34m\u001b[0m\u001b[0m\n\u001b[1;32m     15\u001b[0m \u001b[0mcat_cols\u001b[0m\u001b[0;34m=\u001b[0m\u001b[0;34m[\u001b[0m\u001b[0;34m'CO_MES'\u001b[0m\u001b[0;34m,\u001b[0m\u001b[0;34m'nick'\u001b[0m\u001b[0;34m,\u001b[0m\u001b[0;34m'SG_UF_NCM'\u001b[0m\u001b[0;34m,\u001b[0m\u001b[0;34m'CO_PAIS'\u001b[0m\u001b[0;34m,\u001b[0m\u001b[0;34m'CO_URF'\u001b[0m\u001b[0;34m]\u001b[0m\u001b[0;34m\u001b[0m\u001b[0;34m\u001b[0m\u001b[0m\n",
      "\u001b[0;32m/tmp/ipykernel_27158/1234189549.py\u001b[0m in \u001b[0;36m?\u001b[0;34m()\u001b[0m\n\u001b[1;32m      1\u001b[0m \u001b[0;31m# Regressão ##########################################################################################\u001b[0m\u001b[0;34m\u001b[0m\u001b[0;34m\u001b[0m\u001b[0m\n\u001b[1;32m      2\u001b[0m \u001b[0;34m\u001b[0m\u001b[0m\n\u001b[1;32m      3\u001b[0m \u001b[0;31m# Filtra deixando passar somente ocorridos e previstos de ocorrer\u001b[0m\u001b[0;34m\u001b[0m\u001b[0;34m\u001b[0m\u001b[0m\n\u001b[1;32m      4\u001b[0m \u001b[0mtrain_r\u001b[0m\u001b[0;34m=\u001b[0m\u001b[0mtrain_c\u001b[0m\u001b[0;34m[\u001b[0m\u001b[0mtrain_c\u001b[0m\u001b[0;34m.\u001b[0m\u001b[0moc\u001b[0m\u001b[0;34m==\u001b[0m\u001b[0;36m1\u001b[0m\u001b[0;34m]\u001b[0m\u001b[0;34m\u001b[0m\u001b[0;34m\u001b[0m\u001b[0m\n\u001b[0;32m----> 5\u001b[0;31m \u001b[0mtest_max_r\u001b[0m\u001b[0;34m=\u001b[0m\u001b[0mtest_pred_max_c\u001b[0m\u001b[0;34m[\u001b[0m\u001b[0;34m(\u001b[0m\u001b[0mtest_pred_max_c\u001b[0m\u001b[0;34m.\u001b[0m\u001b[0moc\u001b[0m\u001b[0;34m==\u001b[0m\u001b[0;36m1\u001b[0m\u001b[0;34m)\u001b[0m\u001b[0;34m&\u001b[0m\u001b[0;34m(\u001b[0m\u001b[0mtest_pred_max_c\u001b[0m\u001b[0;34m.\u001b[0m\u001b[0moc_pred\u001b[0m\u001b[0;34m==\u001b[0m\u001b[0;36m1\u001b[0m\u001b[0;34m)\u001b[0m\u001b[0;34m]\u001b[0m\u001b[0;34m\u001b[0m\u001b[0;34m\u001b[0m\u001b[0m\n\u001b[0m\u001b[1;32m      6\u001b[0m \u001b[0mtest_min_r\u001b[0m\u001b[0;34m=\u001b[0m\u001b[0mtest_pred_min_c\u001b[0m\u001b[0;34m[\u001b[0m\u001b[0;34m(\u001b[0m\u001b[0mtest_pred_min_c\u001b[0m\u001b[0;34m.\u001b[0m\u001b[0moc\u001b[0m\u001b[0;34m==\u001b[0m\u001b[0;36m1\u001b[0m\u001b[0;34m)\u001b[0m\u001b[0;34m&\u001b[0m\u001b[0;34m(\u001b[0m\u001b[0mtest_pred_min_c\u001b[0m\u001b[0;34m.\u001b[0m\u001b[0moc_pred\u001b[0m\u001b[0;34m==\u001b[0m\u001b[0;36m1\u001b[0m\u001b[0;34m)\u001b[0m\u001b[0;34m]\u001b[0m\u001b[0;34m\u001b[0m\u001b[0;34m\u001b[0m\u001b[0m\n",
      "\u001b[0;32m~/git/ambiente1/lib/python3.11/site-packages/pandas/core/generic.py\u001b[0m in \u001b[0;36m?\u001b[0;34m(self, name)\u001b[0m\n\u001b[1;32m   6295\u001b[0m             \u001b[0;32mand\u001b[0m \u001b[0mname\u001b[0m \u001b[0;32mnot\u001b[0m \u001b[0;32min\u001b[0m \u001b[0mself\u001b[0m\u001b[0;34m.\u001b[0m\u001b[0m_accessors\u001b[0m\u001b[0;34m\u001b[0m\u001b[0;34m\u001b[0m\u001b[0m\n\u001b[1;32m   6296\u001b[0m             \u001b[0;32mand\u001b[0m \u001b[0mself\u001b[0m\u001b[0;34m.\u001b[0m\u001b[0m_info_axis\u001b[0m\u001b[0;34m.\u001b[0m\u001b[0m_can_hold_identifiers_and_holds_name\u001b[0m\u001b[0;34m(\u001b[0m\u001b[0mname\u001b[0m\u001b[0;34m)\u001b[0m\u001b[0;34m\u001b[0m\u001b[0;34m\u001b[0m\u001b[0m\n\u001b[1;32m   6297\u001b[0m         ):\n\u001b[1;32m   6298\u001b[0m             \u001b[0;32mreturn\u001b[0m \u001b[0mself\u001b[0m\u001b[0;34m[\u001b[0m\u001b[0mname\u001b[0m\u001b[0;34m]\u001b[0m\u001b[0;34m\u001b[0m\u001b[0;34m\u001b[0m\u001b[0m\n\u001b[0;32m-> 6299\u001b[0;31m         \u001b[0;32mreturn\u001b[0m \u001b[0mobject\u001b[0m\u001b[0;34m.\u001b[0m\u001b[0m__getattribute__\u001b[0m\u001b[0;34m(\u001b[0m\u001b[0mself\u001b[0m\u001b[0;34m,\u001b[0m \u001b[0mname\u001b[0m\u001b[0;34m)\u001b[0m\u001b[0;34m\u001b[0m\u001b[0;34m\u001b[0m\u001b[0m\n\u001b[0m",
      "\u001b[0;31mAttributeError\u001b[0m: 'DataFrame' object has no attribute 'oc'"
     ]
    }
   ],
   "source": [
    "import time\n",
    "ini_time=time.time()\n",
    "\n",
    "import datetime\n",
    "\n",
    "import warnings\n",
    "warnings.filterwarnings(\"ignore\")\n",
    "\n",
    "import pandas as pd\n",
    "import numpy as np\n",
    "\n",
    "%run 'prev_comex_ncm.ipynb'\n",
    "\n",
    "# Define parametros\n",
    "cat_cols=['CO_MES','nick','SG_UF_NCM','CO_PAIS','CO_URF']\n",
    "l=20\n",
    "\n",
    "comex_ncm=pd.read_csv('~/git/BD/temp/imp_fert_quanti.csv').sort_values(by=['CO_ANO','CO_MES'])\n",
    "\n",
    "# Filtra top\n",
    "top_nick=comex_ncm.groupby('nick').KG_LIQUIDO.sum().sort_values().index[-2:]\n",
    "top_uf=comex_ncm.groupby('SG_UF_NCM').KG_LIQUIDO.sum().sort_values().index[-2:]\n",
    "top_pais=comex_ncm.groupby('CO_PAIS').KG_LIQUIDO.sum().sort_values().index[-2:]\n",
    "top_urf=comex_ncm.groupby('CO_URF').KG_LIQUIDO.sum().sort_values().index[-2:]\n",
    "comex_ncm=comex_ncm[(comex_ncm.nick.isin(top_nick))&(comex_ncm.SG_UF_NCM.isin(top_uf))&(comex_ncm.CO_PAIS.isin(top_pais))&(comex_ncm.CO_URF.isin(top_urf))]\n",
    "\n",
    "# Salva datas de início e fim\n",
    "comex_ncm['date']=pd.to_datetime(comex_ncm.CO_ANO.astype(str)+'/'+comex_ncm.CO_MES.astype(str)+'/1')\n",
    "date_ini=comex_ncm.date.min()\n",
    "date_fim=comex_ncm.date.max()\n",
    "\n",
    "# Sparse Matrix \n",
    "# Matriz 1\n",
    "anos=pd.DataFrame({'CO_ANO':np.arange(comex_ncm.CO_ANO.min(),comex_ncm.CO_ANO.max()+1),'key':0})\n",
    "# Matriz 2\n",
    "cat=comex_ncm[cat_cols].drop_duplicates().assign(key=0)\n",
    "# Multiplica\n",
    "c_c=anos.merge(cat,how='outer').drop(columns='key')        \n",
    "comex_ncm=c_c.merge(comex_ncm,how='outer').fillna(0)\n",
    "# Refaz data\n",
    "comex_ncm['date']=pd.to_datetime(comex_ncm.CO_ANO.astype(str)+'/'+comex_ncm.CO_MES.astype(str)+'/1')\n",
    "# Apara as bordas\n",
    "comex_ncm=comex_ncm[(comex_ncm.date<=date_fim)&(comex_ncm.date>=date_ini)]"
   ]
  },
  {
   "cell_type": "code",
   "execution_count": null,
   "id": "eba9da76-18f2-48ab-b9ac-dec617f67331",
   "metadata": {},
   "outputs": [],
   "source": [
    "# Salva copia para o loop\n",
    "comex_ncm_t=comex_ncm.copy()"
   ]
  },
  {
   "cell_type": "code",
   "execution_count": null,
   "id": "be0b0b46-28e6-48d5-b6fc-f3210241bba7",
   "metadata": {
    "scrolled": true
   },
   "outputs": [],
   "source": [
    "test_pred=pd.DataFrame()\n",
    "# while\n",
    "a=1\n",
    "while comex_ncm_t.date.max()-pd.DateOffset(years=l)+ pd.DateOffset(months=1)>=comex_ncm_t.date.min():\n",
    "    date_ini=comex_ncm_t.date.max()-pd.DateOffset(years=l) + pd.DateOffset(months=1)\n",
    "    \n",
    "    # Finaliza arquivo para processamento\n",
    "    comex_ncm_t2=comex_ncm_t[comex_ncm_t.date>=date_ini]\n",
    "    test_pred_p=preve_comex_ncm(comex_ncm_t2,\n",
    "                    target_cols=['oc','KG_LIQUIDO'],\n",
    "                    cat_cols=cat_cols,\n",
    "                    md_c=15,\n",
    "                    md_r=1)\n",
    "    #print('test_pred_p.oc.isna().sum()',test_pred_p.oc.isna().sum())\n",
    "    test_pred=pd.concat([test_pred,test_pred_p])\n",
    "    test_pred=test_pred.assign(while_=a)\n",
    "    a+=1\n",
    "    \n",
    "    # prepara inicio de novo loop\n",
    "    comex_ncm_t=comex_ncm_t[comex_ncm_t.date<comex_ncm_t.date.max()]"
   ]
  },
  {
   "cell_type": "code",
   "execution_count": null,
   "id": "29ae4625-bda5-40d1-be45-d3212c1bafcc",
   "metadata": {},
   "outputs": [],
   "source": [
    "test_pred.while_.unique()"
   ]
  },
  {
   "cell_type": "code",
   "execution_count": null,
   "id": "eafce893-8fab-4a24-a5ca-0a610ebfd278",
   "metadata": {},
   "outputs": [],
   "source": [
    "test_pred.to_csv('test_pred.csv',index=False)"
   ]
  },
  {
   "cell_type": "code",
   "execution_count": null,
   "id": "e5fb6bb0-9e99-4318-9dac-c42e65e96979",
   "metadata": {},
   "outputs": [],
   "source": [
    "fim_time=time.time()\n",
    "print('Tempo repet_pred: ',round((fim_time-ini_time)/60,2),' minutos.')"
   ]
  }
 ],
 "metadata": {
  "kernelspec": {
   "display_name": "Python 3 (ipykernel)",
   "language": "python",
   "name": "python3"
  },
  "language_info": {
   "codemirror_mode": {
    "name": "ipython",
    "version": 3
   },
   "file_extension": ".py",
   "mimetype": "text/x-python",
   "name": "python",
   "nbconvert_exporter": "python",
   "pygments_lexer": "ipython3",
   "version": "3.11.2"
  }
 },
 "nbformat": 4,
 "nbformat_minor": 5
}
